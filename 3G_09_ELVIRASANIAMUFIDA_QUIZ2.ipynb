{
  "cells": [
    {
      "cell_type": "markdown",
      "metadata": {
        "id": "QAXdldQSApi6"
      },
      "source": [
        "**IDENTITAS QUIS 2** <br>\n",
        "NAMA : **ELVIRA SANIA MUFIDA** <br>\n",
        "NIM : **2041720080** <br>\n",
        "NO ABSEN : **09** <br>\n",
        "KELAS : **TI-3G** <br>"
      ]
    },
    {
      "cell_type": "markdown",
      "metadata": {
        "id": "AobRU7taBKIg"
      },
      "source": [
        "# **SOAL**\n",
        "\n",
        "\n",
        "\n"
      ]
    },
    {
      "cell_type": "markdown",
      "metadata": {
        "id": "fgQmT4OZKCe_"
      },
      "source": [
        "1. Buat 5 jenis visualisasi yang dapat dihasilkan dari dataset yang diberikan! (5 poin)\n",
        "2. Lakukan pemilahan data training dan testing yang sesuai dan proporsional dari data tersebut! (5 poin)\n",
        "3. Tentukan data validasi! (5 poin)\n",
        "4. Terapkan dua jenis metode klasifikasi dan lakukan perbandingan akurasi  dengan wajib melibatkan variabel keterlibatan volunteer sampai variabel luaran-luaran yang dihasilkan! (20 poin)\n",
        "5. Terapkan sebuah metode prediksi (berdasarkan tahun, misal: jumlah kegiatan pada tahun tertentu sebagai x dan jumlah  luaran sebagai y) serta hitung akurasinya dengan wajib melibatkan variabel keterlibatan volunteer sampai variabel luaran-luaran yang dihasilkan! (20 poin)\n",
        "6. Buat Confusion Matrix dan ROC berdasarkan klasifikasi yang diterapkan pada nomor 4! (15 poin)\n",
        "7. Lakukan hyperparameter tunning berdasarkan jawaban nomor 2, 3, dan 4 menggunakan metode Grid Search, Random Search, dan Exhausive Search! (20 poin)\n",
        "8. Tambahkan visualisasi berdasarkan nomor 4 dan 5 (masing-masing nomor minimal satu visualisasi)! (10 poin)"
      ]
    },
    {
      "cell_type": "markdown",
      "metadata": {
        "id": "7b_qfEqLKlON"
      },
      "source": [
        "# **DATASET**"
      ]
    },
    {
      "cell_type": "code",
      "execution_count": null,
      "metadata": {
        "id": "OPdqgXXGAcUw"
      },
      "outputs": [],
      "source": [
        "#LIBRARRY\n",
        "import numpy as np\n",
        "import pandas as pd\n",
        "import matplotlib.pyplot as plt\n",
        "import seaborn as sns"
      ]
    },
    {
      "cell_type": "code",
      "execution_count": null,
      "metadata": {
        "id": "ElPMkKKWD3f1",
        "colab": {
          "base_uri": "https://localhost:8080/"
        },
        "outputId": "e0f64019-b74d-439d-cf43-57133e8363b5"
      },
      "outputs": [
        {
          "output_type": "stream",
          "name": "stdout",
          "text": [
            "Drive already mounted at /content/drive; to attempt to forcibly remount, call drive.mount(\"/content/drive\", force_remount=True).\n"
          ]
        }
      ],
      "source": [
        "from google.colab import drive\n",
        "drive.mount('/content/drive')"
      ]
    },
    {
      "cell_type": "code",
      "execution_count": null,
      "metadata": {
        "id": "4pusnZbUCEWq",
        "colab": {
          "base_uri": "https://localhost:8080/",
          "height": 270
        },
        "outputId": "519f119c-9842-4f5d-f9b2-a49fbdfc9578"
      },
      "outputs": [
        {
          "output_type": "execute_result",
          "data": {
            "text/plain": [
              "   id_ketua  id_anggota1  id_anggota2  id_anggota3  id_anggota4  id_anggota5  \\\n",
              "0      7206         7214         6211         8602         7801            0   \n",
              "1      7214         7109         8402         7903         9202            0   \n",
              "2      5911         8201         8701         9101         9003            0   \n",
              "3      8402         7702         8602         8903         8903            0   \n",
              "4      8201         8305         5911         5903         8402            0   \n",
              "\n",
              "  keterlibatan_vltr  jml_vltr_terlibat  tahun    skema luaran_hki  \\\n",
              "0             TIDAK                  0   2019  REGULER  TIDAK ADA   \n",
              "1             TIDAK                  0   2019  REGULER  TIDAK ADA   \n",
              "2             TIDAK                  0   2019  REGULER  TIDAK ADA   \n",
              "3             TIDAK                  0   2019  REGULER  TIDAK ADA   \n",
              "4             TIDAK                  0   2019  REGULER  TIDAK ADA   \n",
              "\n",
              "  jenis_luaran_hki potensi_hki luaran_lain jenis_luaran_lain  \\\n",
              "0        TIDAK ADA       TIDAK   TIDAK ADA         TIDAK ADA   \n",
              "1        TIDAK ADA       TIDAK   TIDAK ADA         TIDAK ADA   \n",
              "2        TIDAK ADA       TIDAK   TIDAK ADA         TIDAK ADA   \n",
              "3        TIDAK ADA       TIDAK   TIDAK ADA         TIDAK ADA   \n",
              "4        TIDAK ADA       TIDAK   TIDAK ADA         TIDAK ADA   \n",
              "\n",
              "  status_luaran_lain  \n",
              "0          TIDAK ADA  \n",
              "1          TIDAK ADA  \n",
              "2          TIDAK ADA  \n",
              "3          TIDAK ADA  \n",
              "4          TIDAK ADA  "
            ],
            "text/html": [
              "\n",
              "  <div id=\"df-88dbe556-5838-439a-82bc-2559af0d312c\">\n",
              "    <div class=\"colab-df-container\">\n",
              "      <div>\n",
              "<style scoped>\n",
              "    .dataframe tbody tr th:only-of-type {\n",
              "        vertical-align: middle;\n",
              "    }\n",
              "\n",
              "    .dataframe tbody tr th {\n",
              "        vertical-align: top;\n",
              "    }\n",
              "\n",
              "    .dataframe thead th {\n",
              "        text-align: right;\n",
              "    }\n",
              "</style>\n",
              "<table border=\"1\" class=\"dataframe\">\n",
              "  <thead>\n",
              "    <tr style=\"text-align: right;\">\n",
              "      <th></th>\n",
              "      <th>id_ketua</th>\n",
              "      <th>id_anggota1</th>\n",
              "      <th>id_anggota2</th>\n",
              "      <th>id_anggota3</th>\n",
              "      <th>id_anggota4</th>\n",
              "      <th>id_anggota5</th>\n",
              "      <th>keterlibatan_vltr</th>\n",
              "      <th>jml_vltr_terlibat</th>\n",
              "      <th>tahun</th>\n",
              "      <th>skema</th>\n",
              "      <th>luaran_hki</th>\n",
              "      <th>jenis_luaran_hki</th>\n",
              "      <th>potensi_hki</th>\n",
              "      <th>luaran_lain</th>\n",
              "      <th>jenis_luaran_lain</th>\n",
              "      <th>status_luaran_lain</th>\n",
              "    </tr>\n",
              "  </thead>\n",
              "  <tbody>\n",
              "    <tr>\n",
              "      <th>0</th>\n",
              "      <td>7206</td>\n",
              "      <td>7214</td>\n",
              "      <td>6211</td>\n",
              "      <td>8602</td>\n",
              "      <td>7801</td>\n",
              "      <td>0</td>\n",
              "      <td>TIDAK</td>\n",
              "      <td>0</td>\n",
              "      <td>2019</td>\n",
              "      <td>REGULER</td>\n",
              "      <td>TIDAK ADA</td>\n",
              "      <td>TIDAK ADA</td>\n",
              "      <td>TIDAK</td>\n",
              "      <td>TIDAK ADA</td>\n",
              "      <td>TIDAK ADA</td>\n",
              "      <td>TIDAK ADA</td>\n",
              "    </tr>\n",
              "    <tr>\n",
              "      <th>1</th>\n",
              "      <td>7214</td>\n",
              "      <td>7109</td>\n",
              "      <td>8402</td>\n",
              "      <td>7903</td>\n",
              "      <td>9202</td>\n",
              "      <td>0</td>\n",
              "      <td>TIDAK</td>\n",
              "      <td>0</td>\n",
              "      <td>2019</td>\n",
              "      <td>REGULER</td>\n",
              "      <td>TIDAK ADA</td>\n",
              "      <td>TIDAK ADA</td>\n",
              "      <td>TIDAK</td>\n",
              "      <td>TIDAK ADA</td>\n",
              "      <td>TIDAK ADA</td>\n",
              "      <td>TIDAK ADA</td>\n",
              "    </tr>\n",
              "    <tr>\n",
              "      <th>2</th>\n",
              "      <td>5911</td>\n",
              "      <td>8201</td>\n",
              "      <td>8701</td>\n",
              "      <td>9101</td>\n",
              "      <td>9003</td>\n",
              "      <td>0</td>\n",
              "      <td>TIDAK</td>\n",
              "      <td>0</td>\n",
              "      <td>2019</td>\n",
              "      <td>REGULER</td>\n",
              "      <td>TIDAK ADA</td>\n",
              "      <td>TIDAK ADA</td>\n",
              "      <td>TIDAK</td>\n",
              "      <td>TIDAK ADA</td>\n",
              "      <td>TIDAK ADA</td>\n",
              "      <td>TIDAK ADA</td>\n",
              "    </tr>\n",
              "    <tr>\n",
              "      <th>3</th>\n",
              "      <td>8402</td>\n",
              "      <td>7702</td>\n",
              "      <td>8602</td>\n",
              "      <td>8903</td>\n",
              "      <td>8903</td>\n",
              "      <td>0</td>\n",
              "      <td>TIDAK</td>\n",
              "      <td>0</td>\n",
              "      <td>2019</td>\n",
              "      <td>REGULER</td>\n",
              "      <td>TIDAK ADA</td>\n",
              "      <td>TIDAK ADA</td>\n",
              "      <td>TIDAK</td>\n",
              "      <td>TIDAK ADA</td>\n",
              "      <td>TIDAK ADA</td>\n",
              "      <td>TIDAK ADA</td>\n",
              "    </tr>\n",
              "    <tr>\n",
              "      <th>4</th>\n",
              "      <td>8201</td>\n",
              "      <td>8305</td>\n",
              "      <td>5911</td>\n",
              "      <td>5903</td>\n",
              "      <td>8402</td>\n",
              "      <td>0</td>\n",
              "      <td>TIDAK</td>\n",
              "      <td>0</td>\n",
              "      <td>2019</td>\n",
              "      <td>REGULER</td>\n",
              "      <td>TIDAK ADA</td>\n",
              "      <td>TIDAK ADA</td>\n",
              "      <td>TIDAK</td>\n",
              "      <td>TIDAK ADA</td>\n",
              "      <td>TIDAK ADA</td>\n",
              "      <td>TIDAK ADA</td>\n",
              "    </tr>\n",
              "  </tbody>\n",
              "</table>\n",
              "</div>\n",
              "      <button class=\"colab-df-convert\" onclick=\"convertToInteractive('df-88dbe556-5838-439a-82bc-2559af0d312c')\"\n",
              "              title=\"Convert this dataframe to an interactive table.\"\n",
              "              style=\"display:none;\">\n",
              "        \n",
              "  <svg xmlns=\"http://www.w3.org/2000/svg\" height=\"24px\"viewBox=\"0 0 24 24\"\n",
              "       width=\"24px\">\n",
              "    <path d=\"M0 0h24v24H0V0z\" fill=\"none\"/>\n",
              "    <path d=\"M18.56 5.44l.94 2.06.94-2.06 2.06-.94-2.06-.94-.94-2.06-.94 2.06-2.06.94zm-11 1L8.5 8.5l.94-2.06 2.06-.94-2.06-.94L8.5 2.5l-.94 2.06-2.06.94zm10 10l.94 2.06.94-2.06 2.06-.94-2.06-.94-.94-2.06-.94 2.06-2.06.94z\"/><path d=\"M17.41 7.96l-1.37-1.37c-.4-.4-.92-.59-1.43-.59-.52 0-1.04.2-1.43.59L10.3 9.45l-7.72 7.72c-.78.78-.78 2.05 0 2.83L4 21.41c.39.39.9.59 1.41.59.51 0 1.02-.2 1.41-.59l7.78-7.78 2.81-2.81c.8-.78.8-2.07 0-2.86zM5.41 20L4 18.59l7.72-7.72 1.47 1.35L5.41 20z\"/>\n",
              "  </svg>\n",
              "      </button>\n",
              "      \n",
              "  <style>\n",
              "    .colab-df-container {\n",
              "      display:flex;\n",
              "      flex-wrap:wrap;\n",
              "      gap: 12px;\n",
              "    }\n",
              "\n",
              "    .colab-df-convert {\n",
              "      background-color: #E8F0FE;\n",
              "      border: none;\n",
              "      border-radius: 50%;\n",
              "      cursor: pointer;\n",
              "      display: none;\n",
              "      fill: #1967D2;\n",
              "      height: 32px;\n",
              "      padding: 0 0 0 0;\n",
              "      width: 32px;\n",
              "    }\n",
              "\n",
              "    .colab-df-convert:hover {\n",
              "      background-color: #E2EBFA;\n",
              "      box-shadow: 0px 1px 2px rgba(60, 64, 67, 0.3), 0px 1px 3px 1px rgba(60, 64, 67, 0.15);\n",
              "      fill: #174EA6;\n",
              "    }\n",
              "\n",
              "    [theme=dark] .colab-df-convert {\n",
              "      background-color: #3B4455;\n",
              "      fill: #D2E3FC;\n",
              "    }\n",
              "\n",
              "    [theme=dark] .colab-df-convert:hover {\n",
              "      background-color: #434B5C;\n",
              "      box-shadow: 0px 1px 3px 1px rgba(0, 0, 0, 0.15);\n",
              "      filter: drop-shadow(0px 1px 2px rgba(0, 0, 0, 0.3));\n",
              "      fill: #FFFFFF;\n",
              "    }\n",
              "  </style>\n",
              "\n",
              "      <script>\n",
              "        const buttonEl =\n",
              "          document.querySelector('#df-88dbe556-5838-439a-82bc-2559af0d312c button.colab-df-convert');\n",
              "        buttonEl.style.display =\n",
              "          google.colab.kernel.accessAllowed ? 'block' : 'none';\n",
              "\n",
              "        async function convertToInteractive(key) {\n",
              "          const element = document.querySelector('#df-88dbe556-5838-439a-82bc-2559af0d312c');\n",
              "          const dataTable =\n",
              "            await google.colab.kernel.invokeFunction('convertToInteractive',\n",
              "                                                     [key], {});\n",
              "          if (!dataTable) return;\n",
              "\n",
              "          const docLinkHtml = 'Like what you see? Visit the ' +\n",
              "            '<a target=\"_blank\" href=https://colab.research.google.com/notebooks/data_table.ipynb>data table notebook</a>'\n",
              "            + ' to learn more about interactive tables.';\n",
              "          element.innerHTML = '';\n",
              "          dataTable['output_type'] = 'display_data';\n",
              "          await google.colab.output.renderOutput(dataTable, element);\n",
              "          const docLink = document.createElement('div');\n",
              "          docLink.innerHTML = docLinkHtml;\n",
              "          element.appendChild(docLink);\n",
              "        }\n",
              "      </script>\n",
              "    </div>\n",
              "  </div>\n",
              "  "
            ]
          },
          "metadata": {},
          "execution_count": 6
        }
      ],
      "source": [
        " # Dataset\n",
        "df = pd.read_excel('/content/drive/MyDrive/Colab Notebooks/DataSet/P13 QUIZ2/dataset_quiz.xlsx')\n",
        "df.fillna(0) # mengganti NaN menjadi value 0\n",
        "df.head()"
      ]
    },
    {
      "cell_type": "markdown",
      "metadata": {
        "id": "DaT2aPvCFkob"
      },
      "source": [
        "# **SOAL 1**"
      ]
    },
    {
      "cell_type": "code",
      "source": [
        "#HISTOGRAM\n",
        "df['jenis_luaran_lain'].hist()\n",
        "plt.xlabel('Jenis luaran', size=12)\n",
        "plt.ylabel('Jumlah', size=12)\n",
        "sns.set()"
      ],
      "metadata": {
        "colab": {
          "base_uri": "https://localhost:8080/",
          "height": 282
        },
        "id": "Wx3OmjaEnvzU",
        "outputId": "2a5ed24c-9917-4bf3-e31e-1e44ccb5b115"
      },
      "execution_count": null,
      "outputs": [
        {
          "output_type": "display_data",
          "data": {
            "text/plain": [
              "<Figure size 432x288 with 1 Axes>"
            ],
            "image/png": "[encoded data removed]"
          },
          "metadata": {
            "needs_background": "light"
          }
        }
      ]
    },
    {
      "cell_type": "code",
      "execution_count": null,
      "metadata": {
        "colab": {
          "base_uri": "https://localhost:8080/",
          "height": 230
        },
        "id": "F_Eqq3OjGUuf",
        "outputId": "d244f5f7-e804-4fc8-fe9e-94f030b60fb8"
      },
      "outputs": [
        {
          "output_type": "display_data",
          "data": {
            "text/plain": [
              "<Figure size 288x216 with 1 Axes>"
            ],
            "image/png": "[encoded data removed]"
          },
          "metadata": {}
        }
      ],
      "source": [
        "# BAR Jumlah skema dari Reguler dan Kemitraan\n",
        "column_skema = df.groupby('skema').count()\n",
        "names = ['Kemitraan', 'Reguler']\n",
        "values = column_skema['keterlibatan_vltr'].values\n",
        "f = plt.figure()\n",
        "f.set_figwidth(4)\n",
        "f.set_figheight(3)\n",
        "plt.bar(names, values)\n",
        "plt.ylabel('Jumlah')\n",
        "plt.xlabel('Skema')\n",
        "plt.show()"
      ]
    },
    {
      "cell_type": "code",
      "source": [
        "#BAR PLOT\n",
        "import seaborn as sns\n",
        "\n",
        "bp = sns.barplot(x ='tahun', y = 'jml_vltr_terlibat', data=df)\n",
        "plt.xlabel('Tahun', size=12)\n",
        "plt.ylabel('Jumlah volunteer terlibat', size=12)\n",
        "plt.show()"
      ],
      "metadata": {
        "colab": {
          "base_uri": "https://localhost:8080/",
          "height": 285
        },
        "id": "S4Sc2ufwoWLx",
        "outputId": "260974a5-3a42-48fd-d535-bbe0027f829e"
      },
      "execution_count": null,
      "outputs": [
        {
          "output_type": "display_data",
          "data": {
            "text/plain": [
              "<Figure size 432x288 with 1 Axes>"
            ],
            "image/png": "[encoded data removed]"
          },
          "metadata": {}
        }
      ]
    },
    {
      "cell_type": "code",
      "execution_count": null,
      "metadata": {
        "colab": {
          "base_uri": "https://localhost:8080/",
          "height": 230
        },
        "id": "5D8WzBtAFm-L",
        "outputId": "51bee654-eb23-4ce2-bf1c-dd07e12c527b"
      },
      "outputs": [
        {
          "output_type": "display_data",
          "data": {
            "text/plain": [
              "<Figure size 288x216 with 1 Axes>"
            ],
            "image/png": "[encoded data removed]"
          },
          "metadata": {}
        }
      ],
      "source": [
        "#  visualisasi rata rata data keterlibatan Voulenter\n",
        "df.describe()\n",
        "keterlibatan_ya = df.groupby('keterlibatan_vltr')['id_ketua'].mean()\n",
        "keterlibatan_ya\n",
        "f = plt.figure()\n",
        "f.set_figwidth(4)\n",
        "f.set_figheight(3)\n",
        "plt.plot(keterlibatan_ya)\n",
        "plt.ylabel('Rata-rata')\n",
        "plt.xlabel('Keterlibatan Vltr')\n",
        "plt.show()"
      ]
    },
    {
      "cell_type": "code",
      "execution_count": null,
      "metadata": {
        "colab": {
          "base_uri": "https://localhost:8080/",
          "height": 234
        },
        "id": "jN0X1tocGuBt",
        "outputId": "7b7e0993-f0d4-4da1-fe26-6db25a4eec07"
      },
      "outputs": [
        {
          "output_type": "display_data",
          "data": {
            "text/plain": [
              "<Figure size 288x216 with 1 Axes>"
            ],
            "image/png": "[encoded data removed]"
          },
          "metadata": {}
        }
      ],
      "source": [
        "# PLOT\n",
        "column_luaran_hki = df.groupby('luaran_hki').count()\n",
        "values = column_luaran_hki['keterlibatan_vltr'].values\n",
        "f = plt.figure()\n",
        "f.set_figwidth(4)\n",
        "f.set_figheight(3)\n",
        "plt.plot(values)\n",
        "plt.ylabel('Jumlah')\n",
        "plt.xlabel('Luaran Hki')\n",
        "plt.show()"
      ]
    },
    {
      "cell_type": "code",
      "execution_count": null,
      "metadata": {
        "colab": {
          "base_uri": "https://localhost:8080/",
          "height": 230
        },
        "id": "3jddZ5eCG9sc",
        "outputId": "246bac59-54c0-442d-f484-4e0def7507f9"
      },
      "outputs": [
        {
          "output_type": "display_data",
          "data": {
            "text/plain": [
              "<Figure size 288x216 with 1 Axes>"
            ],
            "image/png": "[encoded data removed]"
          },
          "metadata": {}
        }
      ],
      "source": [
        "# SCATTER Jumlah keterlibatan volunteer berdasarkan tahun\n",
        "column_tahun = df.groupby('tahun').count()\n",
        "names = ['2019', '2020', '2021', '2022']\n",
        "values = column_tahun['keterlibatan_vltr'].values\n",
        "f = plt.figure()\n",
        "f.set_figwidth(4)\n",
        "f.set_figheight(3)\n",
        "plt.scatter(names, values)\n",
        "plt.ylabel('Jumlah')\n",
        "plt.xlabel('Tahun')\n",
        "plt.show()"
      ]
    },
    {
      "cell_type": "code",
      "execution_count": null,
      "metadata": {
        "colab": {
          "base_uri": "https://localhost:8080/",
          "height": 301
        },
        "id": "LzYi1eTCHJlQ",
        "outputId": "5ab2107f-08b7-4c70-8dd1-6d6c9f8dfea3"
      },
      "outputs": [
        {
          "output_type": "display_data",
          "data": {
            "text/plain": [
              "<Figure size 432x288 with 1 Axes>"
            ],
            "image/png": "[encoded data removed]"
          },
          "metadata": {}
        }
      ],
      "source": [
        "#GRAFIK\n",
        "plt.plot(df['skema'], df['jml_vltr_terlibat'], label='Volunteer')\n",
        "plt.xlabel('Skema') \n",
        "plt.ylabel('Jumlah Voluenteer')\n",
        "plt.title('Volunteer terlibat tiap skema')\n",
        "plt.legend()\n",
        "plt.show()"
      ]
    },
    {
      "cell_type": "markdown",
      "metadata": {
        "id": "ViQkXwmbHQYD"
      },
      "source": [
        "# **SOAL 2**"
      ]
    },
    {
      "cell_type": "code",
      "execution_count": null,
      "metadata": {
        "colab": {
          "base_uri": "https://localhost:8080/",
          "height": 270
        },
        "id": "u-Er9P9THSyl",
        "outputId": "85c30a19-a6f4-429a-c105-3eae077b824a"
      },
      "outputs": [
        {
          "output_type": "execute_result",
          "data": {
            "text/plain": [
              "   id_ketua  id_anggota1  id_anggota2  id_anggota3  id_anggota4  id_anggota5  \\\n",
              "0      7206         7214         6211         8602         7801            0   \n",
              "1      7214         7109         8402         7903         9202            0   \n",
              "2      5911         8201         8701         9101         9003            0   \n",
              "3      8402         7702         8602         8903         8903            0   \n",
              "4      8201         8305         5911         5903         8402            0   \n",
              "\n",
              "   keterlibatan_vltr  jml_vltr_terlibat  tahun  skema  luaran_hki  \\\n",
              "0                  0                  0      0      1           1   \n",
              "1                  0                  0      0      1           1   \n",
              "2                  0                  0      0      1           1   \n",
              "3                  0                  0      0      1           1   \n",
              "4                  0                  0      0      1           1   \n",
              "\n",
              "   jenis_luaran_hki  potensi_hki  luaran_lain  jenis_luaran_lain  \\\n",
              "0                 1            2            0                  3   \n",
              "1                 1            2            0                  3   \n",
              "2                 1            2            0                  3   \n",
              "3                 1            2            0                  3   \n",
              "4                 1            2            0                  3   \n",
              "\n",
              "   status_luaran_lain  \n",
              "0                   1  \n",
              "1                   1  \n",
              "2                   1  \n",
              "3                   1  \n",
              "4                   1  "
            ],
            "text/html": [
              "\n",
              "  <div id=\"df-287fd426-2bda-4c06-bb3a-c341a9e13a2a\">\n",
              "    <div class=\"colab-df-container\">\n",
              "      <div>\n",
              "<style scoped>\n",
              "    .dataframe tbody tr th:only-of-type {\n",
              "        vertical-align: middle;\n",
              "    }\n",
              "\n",
              "    .dataframe tbody tr th {\n",
              "        vertical-align: top;\n",
              "    }\n",
              "\n",
              "    .dataframe thead th {\n",
              "        text-align: right;\n",
              "    }\n",
              "</style>\n",
              "<table border=\"1\" class=\"dataframe\">\n",
              "  <thead>\n",
              "    <tr style=\"text-align: right;\">\n",
              "      <th></th>\n",
              "      <th>id_ketua</th>\n",
              "      <th>id_anggota1</th>\n",
              "      <th>id_anggota2</th>\n",
              "      <th>id_anggota3</th>\n",
              "      <th>id_anggota4</th>\n",
              "      <th>id_anggota5</th>\n",
              "      <th>keterlibatan_vltr</th>\n",
              "      <th>jml_vltr_terlibat</th>\n",
              "      <th>tahun</th>\n",
              "      <th>skema</th>\n",
              "      <th>luaran_hki</th>\n",
              "      <th>jenis_luaran_hki</th>\n",
              "      <th>potensi_hki</th>\n",
              "      <th>luaran_lain</th>\n",
              "      <th>jenis_luaran_lain</th>\n",
              "      <th>status_luaran_lain</th>\n",
              "    </tr>\n",
              "  </thead>\n",
              "  <tbody>\n",
              "    <tr>\n",
              "      <th>0</th>\n",
              "      <td>7206</td>\n",
              "      <td>7214</td>\n",
              "      <td>6211</td>\n",
              "      <td>8602</td>\n",
              "      <td>7801</td>\n",
              "      <td>0</td>\n",
              "      <td>0</td>\n",
              "      <td>0</td>\n",
              "      <td>0</td>\n",
              "      <td>1</td>\n",
              "      <td>1</td>\n",
              "      <td>1</td>\n",
              "      <td>2</td>\n",
              "      <td>0</td>\n",
              "      <td>3</td>\n",
              "      <td>1</td>\n",
              "    </tr>\n",
              "    <tr>\n",
              "      <th>1</th>\n",
              "      <td>7214</td>\n",
              "      <td>7109</td>\n",
              "      <td>8402</td>\n",
              "      <td>7903</td>\n",
              "      <td>9202</td>\n",
              "      <td>0</td>\n",
              "      <td>0</td>\n",
              "      <td>0</td>\n",
              "      <td>0</td>\n",
              "      <td>1</td>\n",
              "      <td>1</td>\n",
              "      <td>1</td>\n",
              "      <td>2</td>\n",
              "      <td>0</td>\n",
              "      <td>3</td>\n",
              "      <td>1</td>\n",
              "    </tr>\n",
              "    <tr>\n",
              "      <th>2</th>\n",
              "      <td>5911</td>\n",
              "      <td>8201</td>\n",
              "      <td>8701</td>\n",
              "      <td>9101</td>\n",
              "      <td>9003</td>\n",
              "      <td>0</td>\n",
              "      <td>0</td>\n",
              "      <td>0</td>\n",
              "      <td>0</td>\n",
              "      <td>1</td>\n",
              "      <td>1</td>\n",
              "      <td>1</td>\n",
              "      <td>2</td>\n",
              "      <td>0</td>\n",
              "      <td>3</td>\n",
              "      <td>1</td>\n",
              "    </tr>\n",
              "    <tr>\n",
              "      <th>3</th>\n",
              "      <td>8402</td>\n",
              "      <td>7702</td>\n",
              "      <td>8602</td>\n",
              "      <td>8903</td>\n",
              "      <td>8903</td>\n",
              "      <td>0</td>\n",
              "      <td>0</td>\n",
              "      <td>0</td>\n",
              "      <td>0</td>\n",
              "      <td>1</td>\n",
              "      <td>1</td>\n",
              "      <td>1</td>\n",
              "      <td>2</td>\n",
              "      <td>0</td>\n",
              "      <td>3</td>\n",
              "      <td>1</td>\n",
              "    </tr>\n",
              "    <tr>\n",
              "      <th>4</th>\n",
              "      <td>8201</td>\n",
              "      <td>8305</td>\n",
              "      <td>5911</td>\n",
              "      <td>5903</td>\n",
              "      <td>8402</td>\n",
              "      <td>0</td>\n",
              "      <td>0</td>\n",
              "      <td>0</td>\n",
              "      <td>0</td>\n",
              "      <td>1</td>\n",
              "      <td>1</td>\n",
              "      <td>1</td>\n",
              "      <td>2</td>\n",
              "      <td>0</td>\n",
              "      <td>3</td>\n",
              "      <td>1</td>\n",
              "    </tr>\n",
              "  </tbody>\n",
              "</table>\n",
              "</div>\n",
              "      <button class=\"colab-df-convert\" onclick=\"convertToInteractive('df-287fd426-2bda-4c06-bb3a-c341a9e13a2a')\"\n",
              "              title=\"Convert this dataframe to an interactive table.\"\n",
              "              style=\"display:none;\">\n",
              "        \n",
              "  <svg xmlns=\"http://www.w3.org/2000/svg\" height=\"24px\"viewBox=\"0 0 24 24\"\n",
              "       width=\"24px\">\n",
              "    <path d=\"M0 0h24v24H0V0z\" fill=\"none\"/>\n",
              "    <path d=\"M18.56 5.44l.94 2.06.94-2.06 2.06-.94-2.06-.94-.94-2.06-.94 2.06-2.06.94zm-11 1L8.5 8.5l.94-2.06 2.06-.94-2.06-.94L8.5 2.5l-.94 2.06-2.06.94zm10 10l.94 2.06.94-2.06 2.06-.94-2.06-.94-.94-2.06-.94 2.06-2.06.94z\"/><path d=\"M17.41 7.96l-1.37-1.37c-.4-.4-.92-.59-1.43-.59-.52 0-1.04.2-1.43.59L10.3 9.45l-7.72 7.72c-.78.78-.78 2.05 0 2.83L4 21.41c.39.39.9.59 1.41.59.51 0 1.02-.2 1.41-.59l7.78-7.78 2.81-2.81c.8-.78.8-2.07 0-2.86zM5.41 20L4 18.59l7.72-7.72 1.47 1.35L5.41 20z\"/>\n",
              "  </svg>\n",
              "      </button>\n",
              "      \n",
              "  <style>\n",
              "    .colab-df-container {\n",
              "      display:flex;\n",
              "      flex-wrap:wrap;\n",
              "      gap: 12px;\n",
              "    }\n",
              "\n",
              "    .colab-df-convert {\n",
              "      background-color: #E8F0FE;\n",
              "      border: none;\n",
              "      border-radius: 50%;\n",
              "      cursor: pointer;\n",
              "      display: none;\n",
              "      fill: #1967D2;\n",
              "      height: 32px;\n",
              "      padding: 0 0 0 0;\n",
              "      width: 32px;\n",
              "    }\n",
              "\n",
              "    .colab-df-convert:hover {\n",
              "      background-color: #E2EBFA;\n",
              "      box-shadow: 0px 1px 2px rgba(60, 64, 67, 0.3), 0px 1px 3px 1px rgba(60, 64, 67, 0.15);\n",
              "      fill: #174EA6;\n",
              "    }\n",
              "\n",
              "    [theme=dark] .colab-df-convert {\n",
              "      background-color: #3B4455;\n",
              "      fill: #D2E3FC;\n",
              "    }\n",
              "\n",
              "    [theme=dark] .colab-df-convert:hover {\n",
              "      background-color: #434B5C;\n",
              "      box-shadow: 0px 1px 3px 1px rgba(0, 0, 0, 0.15);\n",
              "      filter: drop-shadow(0px 1px 2px rgba(0, 0, 0, 0.3));\n",
              "      fill: #FFFFFF;\n",
              "    }\n",
              "  </style>\n",
              "\n",
              "      <script>\n",
              "        const buttonEl =\n",
              "          document.querySelector('#df-287fd426-2bda-4c06-bb3a-c341a9e13a2a button.colab-df-convert');\n",
              "        buttonEl.style.display =\n",
              "          google.colab.kernel.accessAllowed ? 'block' : 'none';\n",
              "\n",
              "        async function convertToInteractive(key) {\n",
              "          const element = document.querySelector('#df-287fd426-2bda-4c06-bb3a-c341a9e13a2a');\n",
              "          const dataTable =\n",
              "            await google.colab.kernel.invokeFunction('convertToInteractive',\n",
              "                                                     [key], {});\n",
              "          if (!dataTable) return;\n",
              "\n",
              "          const docLinkHtml = 'Like what you see? Visit the ' +\n",
              "            '<a target=\"_blank\" href=https://colab.research.google.com/notebooks/data_table.ipynb>data table notebook</a>'\n",
              "            + ' to learn more about interactive tables.';\n",
              "          element.innerHTML = '';\n",
              "          dataTable['output_type'] = 'display_data';\n",
              "          await google.colab.output.renderOutput(dataTable, element);\n",
              "          const docLink = document.createElement('div');\n",
              "          docLink.innerHTML = docLinkHtml;\n",
              "          element.appendChild(docLink);\n",
              "        }\n",
              "      </script>\n",
              "    </div>\n",
              "  </div>\n",
              "  "
            ]
          },
          "metadata": {},
          "execution_count": 14
        }
      ],
      "source": [
        "# ENCODING\n",
        "from sklearn.preprocessing import LabelEncoder\n",
        "\n",
        "# Inisiasi label encoder\n",
        "encode = LabelEncoder()\n",
        "\n",
        "# Terpakan label encoder\n",
        "df['keterlibatan_vltr'] = encode.fit_transform(df['keterlibatan_vltr'])\n",
        "df['luaran_hki'] = encode.fit_transform(df['luaran_hki'])\n",
        "df['luaran_lain'] = encode.fit_transform(df['luaran_lain'])\n",
        "df['jenis_luaran_hki'] = encode.fit_transform(df['jenis_luaran_hki'])\n",
        "df['jenis_luaran_lain'] = encode.fit_transform(df['jenis_luaran_lain'])\n",
        "df['potensi_hki'] = encode.fit_transform(df['potensi_hki'])\n",
        "df['skema'] = encode.fit_transform(df['skema'])\n",
        "df['tahun'] = encode.fit_transform(df['tahun'])\n",
        "df['status_luaran_lain'] = encode.fit_transform(df['status_luaran_lain'])\n",
        "\n",
        "#  hasil\n",
        "df.head()"
      ]
    },
    {
      "cell_type": "code",
      "execution_count": null,
      "metadata": {
        "colab": {
          "base_uri": "https://localhost:8080/",
          "height": 329
        },
        "id": "XX0B1GdmHg08",
        "outputId": "241d3f80-7ee5-4723-e8d9-0fb81228276f"
      },
      "outputs": [
        {
          "output_type": "stream",
          "name": "stderr",
          "text": [
            "/usr/local/lib/python3.7/dist-packages/seaborn/axisgrid.py:2076: UserWarning: The `size` parameter has been renamed to `height`; please update your code.\n",
            "  warnings.warn(msg, UserWarning)\n"
          ]
        },
        {
          "output_type": "display_data",
          "data": {
            "text/plain": [
              "<Figure size 1152x288 with 4 Axes>"
            ],
            "image/png": "[encoded data removed]"
          },
          "metadata": {}
        }
      ],
      "source": [
        "# VISUALISASI\n",
        "sns.pairplot(df, x_vars=['id_anggota1', 'id_anggota2', 'id_anggota3', 'id_anggota4'], \n",
        "             y_vars='id_ketua', size=4, aspect=1, kind='scatter')\n",
        "plt.show()"
      ]
    },
    {
      "cell_type": "code",
      "execution_count": null,
      "metadata": {
        "colab": {
          "base_uri": "https://localhost:8080/",
          "height": 688
        },
        "id": "MxNutjK9HpvU",
        "outputId": "77d48aae-0d5a-478d-c4fe-3b3db22d6372"
      },
      "outputs": [
        {
          "output_type": "display_data",
          "data": {
            "text/plain": [
              "<Figure size 720x720 with 2 Axes>"
            ],
            "image/png": "[encoded data removed]"
          },
          "metadata": {}
        }
      ],
      "source": [
        "fig, ax = plt.subplots(figsize=(10,10)) \n",
        "\n",
        "sns.heatmap(df.corr(), cmap=\"YlGnBu\", annot = True)\n",
        "plt.show()"
      ]
    },
    {
      "cell_type": "code",
      "execution_count": null,
      "metadata": {
        "colab": {
          "base_uri": "https://localhost:8080/"
        },
        "id": "l4QoswkPI1T6",
        "outputId": "195c12e7-33f1-4b67-a75f-50f09df489b5"
      },
      "outputs": [
        {
          "output_type": "execute_result",
          "data": {
            "text/plain": [
              "id_ketua              int64\n",
              "id_anggota1           int64\n",
              "id_anggota2           int64\n",
              "id_anggota3           int64\n",
              "id_anggota4           int64\n",
              "id_anggota5           int64\n",
              "keterlibatan_vltr     int64\n",
              "jml_vltr_terlibat     int64\n",
              "tahun                 int64\n",
              "skema                 int64\n",
              "luaran_hki            int64\n",
              "jenis_luaran_hki      int64\n",
              "potensi_hki           int64\n",
              "luaran_lain           int64\n",
              "jenis_luaran_lain     int64\n",
              "status_luaran_lain    int64\n",
              "dtype: object"
            ]
          },
          "metadata": {},
          "execution_count": 17
        }
      ],
      "source": [
        "# cek type data\n",
        "df.dtypes"
      ]
    },
    {
      "cell_type": "code",
      "execution_count": null,
      "metadata": {
        "colab": {
          "base_uri": "https://localhost:8080/"
        },
        "id": "-WiBapoBI5OW",
        "outputId": "43641800-dc98-41c0-923a-e8297259083b"
      },
      "outputs": [
        {
          "output_type": "execute_result",
          "data": {
            "text/plain": [
              "id_ketua              float64\n",
              "id_anggota1           float64\n",
              "id_anggota2           float64\n",
              "id_anggota3           float64\n",
              "id_anggota4           float64\n",
              "id_anggota5           float64\n",
              "keterlibatan_vltr       int64\n",
              "jml_vltr_terlibat       int64\n",
              "tahun                   int64\n",
              "skema                   int64\n",
              "luaran_hki              int64\n",
              "jenis_luaran_hki        int64\n",
              "potensi_hki             int64\n",
              "luaran_lain             int64\n",
              "jenis_luaran_lain       int64\n",
              "status_luaran_lain      int64\n",
              "dtype: object"
            ]
          },
          "metadata": {},
          "execution_count": 18
        }
      ],
      "source": [
        "# Mengubah type data\n",
        "df['id_ketua'] = df['id_ketua'].astype(float)\n",
        "df['id_anggota1'] = df['id_anggota1'].astype(float)\n",
        "df['id_anggota2'] = df['id_anggota2'].astype(float)\n",
        "df['id_anggota3'] = df['id_anggota3'].astype(float)\n",
        "df['id_anggota4'] = df['id_anggota4'].astype(float)\n",
        "df['id_anggota5'] = df['id_anggota5'].astype(float)\n",
        "# Cek type data\n",
        "df.dtypes"
      ]
    },
    {
      "cell_type": "code",
      "execution_count": null,
      "metadata": {
        "id": "jybW36l5JD_A"
      },
      "outputs": [],
      "source": [
        "columns = df.iloc[:,[6,7,8,9,10,11,12,13,14,15]]\n",
        "X = df.iloc[:,:5]\n",
        "y = columns.iloc[:,0]"
      ]
    },
    {
      "cell_type": "code",
      "execution_count": null,
      "metadata": {
        "id": "41Rb8wLbJHfv"
      },
      "outputs": [],
      "source": [
        "# Split data training dan testing\n",
        "\n",
        "from sklearn.model_selection import train_test_split\n",
        "\n",
        "X_train, X_test, y_train, y_test = train_test_split(X, y, test_size=0.2, random_state=100)"
      ]
    },
    {
      "cell_type": "markdown",
      "metadata": {
        "id": "KKHTDhyaJQ3b"
      },
      "source": [
        "# **SOAL 3**"
      ]
    },
    {
      "cell_type": "code",
      "execution_count": null,
      "metadata": {
        "colab": {
          "base_uri": "https://localhost:8080/"
        },
        "id": "ks-r3jmx_OBR",
        "outputId": "3c785563-b419-447e-e12d-540435aa7022"
      },
      "outputs": [
        {
          "output_type": "stream",
          "name": "stdout",
          "text": [
            "Jumlah fold: 12\n",
            "Obyek SKFold: RepeatedKFold(n_repeats=3, n_splits=4, random_state=42)\n",
            "Jumlah data df: 17\n",
            "Index train: [ 2  3  4  6  7  8  9 10 12 13 14 16] | Index test: [ 0  1  5 11 15]\n",
            "Index train: [ 0  1  3  4  5  6  7  9 10 11 12 15 16] | Index test: [ 2  8 13 14]\n",
            "Index train: [ 0  1  2  3  5  6  8 10 11 12 13 14 15] | Index test: [ 4  7  9 16]\n",
            "Index train: [ 0  1  2  4  5  7  8  9 11 13 14 15 16] | Index test: [ 3  6 10 12]\n",
            "Index train: [ 0  1  3  4  5  7  9 10 11 12 13 16] | Index test: [ 2  6  8 14 15]\n",
            "Index train: [ 0  1  2  4  5  6  7  8 11 13 14 15 16] | Index test: [ 3  9 10 12]\n",
            "Index train: [ 1  2  3  6  7  8  9 10 11 12 13 14 15] | Index test: [ 0  4  5 16]\n",
            "Index train: [ 0  2  3  4  5  6  8  9 10 12 14 15 16] | Index test: [ 1  7 11 13]\n",
            "Index train: [ 2  3  4  6  7  8  9 11 12 13 14 15] | Index test: [ 0  1  5 10 16]\n",
            "Index train: [ 0  1  2  3  5  6  9 10 11 13 14 15 16] | Index test: [ 4  7  8 12]\n",
            "Index train: [ 0  1  4  5  7  8  9 10 11 12 14 15 16] | Index test: [ 2  3  6 13]\n",
            "Index train: [ 0  1  2  3  4  5  6  7  8 10 12 13 16] | Index test: [ 9 11 14 15]\n"
          ]
        }
      ],
      "source": [
        "# Implementasi repeated k-fold cross validation data training, validasi, dan testing dengan stratified\n",
        "from sklearn.model_selection import train_test_split, RepeatedKFold\n",
        "\n",
        "# Split train test dengan stratified\n",
        "# Rasio 8:2\n",
        "df_train, df_test = train_test_split(df, test_size=0.8, random_state=42, stratify=df['status_luaran_lain'])\n",
        "\n",
        "# inisiasi obyek RepeatedKFold\n",
        "# dengan data df_train\n",
        "rkf = RepeatedKFold(n_splits=4, n_repeats=3, random_state=42) # n_repeats digunakan untuk mendefinisikan berapa kali ulangan\n",
        "print(f'Jumlah fold: {rkf.get_n_splits()}')\n",
        "print(f'Obyek SKFold: {rkf}')\n",
        "\n",
        "# Nomor 3 (Splitting Data Training Menjadi Data Training dan Validation)\n",
        "# Lakukan splitting dengan RKFold\n",
        "# parameter kedua dari split adalah labelnya\n",
        "# Split train menjadi train dan validasi\n",
        "rkf_split2 = rkf.split(df_train, df_train['status_luaran_lain'])\n",
        "print(f'Jumlah data df: {df_train.shape[0]}')\n",
        "\n",
        "# cek index data tiap fold\n",
        "for train_index, test_index in rkf_split2:\n",
        "    print(f'Index train: {train_index} | Index test: {test_index}')"
      ]
    },
    {
      "cell_type": "markdown",
      "metadata": {
        "id": "Io3vnBL8JvAQ"
      },
      "source": [
        "# **SOAL 4**"
      ]
    },
    {
      "cell_type": "markdown",
      "metadata": {
        "id": "0WeZb03Uw8_A"
      },
      "source": [
        "### KLASIFIKASI NAIVE BAYES DECISION TREE"
      ]
    },
    {
      "cell_type": "code",
      "execution_count": null,
      "metadata": {
        "id": "VdTPvQdUw6d3"
      },
      "outputs": [],
      "source": [
        "X_train, X_test, y_train, y_test = train_test_split(X, y, test_size=0.2, random_state=3)"
      ]
    },
    {
      "cell_type": "code",
      "execution_count": null,
      "metadata": {
        "colab": {
          "base_uri": "https://localhost:8080/"
        },
        "id": "Idm3iPhwxqsU",
        "outputId": "85350922-448e-49a1-9e43-413029704af8"
      },
      "outputs": [
        {
          "output_type": "execute_result",
          "data": {
            "text/plain": [
              "DecisionTreeClassifier(criterion='entropy', max_depth=8, random_state=1)"
            ]
          },
          "metadata": {},
          "execution_count": 23
        }
      ],
      "source": [
        "from sklearn.tree import DecisionTreeClassifier\n",
        "\n",
        "# Instantiate dt_entropy, set 'entropy' sebagai kriteria informasi\n",
        "dt_entropy = DecisionTreeClassifier(max_depth=8, criterion='entropy', random_state=1)\n",
        "\n",
        "# Fit dt_entropy kedalam training set\n",
        "dt_entropy.fit(X_train, y_train)"
      ]
    },
    {
      "cell_type": "code",
      "execution_count": null,
      "metadata": {
        "colab": {
          "base_uri": "https://localhost:8080/"
        },
        "id": "xaPGwPUmxuD3",
        "outputId": "af92c317-a0e1-414d-cde7-f007c578b9e3"
      },
      "outputs": [
        {
          "output_type": "execute_result",
          "data": {
            "text/plain": [
              "DecisionTreeClassifier(max_depth=8, random_state=1)"
            ]
          },
          "metadata": {},
          "execution_count": 24
        }
      ],
      "source": [
        "dt_gini = DecisionTreeClassifier(max_depth=8, criterion='gini', random_state=1)\n",
        "dt_gini.fit(X_train, y_train)"
      ]
    },
    {
      "cell_type": "code",
      "execution_count": null,
      "metadata": {
        "colab": {
          "base_uri": "https://localhost:8080/"
        },
        "id": "xoCjmYdrxxU_",
        "outputId": "79efafb4-6d10-4823-93b4-46bbd067e049"
      },
      "outputs": [
        {
          "output_type": "execute_result",
          "data": {
            "text/plain": [
              "DecisionTreeClassifier(max_depth=8, random_state=1)"
            ]
          },
          "metadata": {},
          "execution_count": 25
        }
      ],
      "source": [
        "dt_gini = DecisionTreeClassifier(max_depth=8, criterion='gini', random_state=1)\n",
        "dt_gini.fit(X_train, y_train)"
      ]
    },
    {
      "cell_type": "code",
      "execution_count": null,
      "metadata": {
        "colab": {
          "base_uri": "https://localhost:8080/"
        },
        "id": "GG8xE9k9xzOe",
        "outputId": "650f230c-4690-4db0-aa6b-98258f4b52d0"
      },
      "outputs": [
        {
          "output_type": "stream",
          "name": "stdout",
          "text": [
            "Accuracy achieved by using entropy:  0.5294117647058824\n",
            "Accuracy achieved by using gini:  0.5294117647058824\n"
          ]
        }
      ],
      "source": [
        "from sklearn.metrics import accuracy_score\n",
        "\n",
        "# menggunakan dt_entropy untuk memprediksi test set labels\n",
        "y_pred = dt_entropy.predict(X_test)\n",
        "y_pred_gini = dt_gini.predict(X_test)\n",
        "\n",
        "# mengevaluasi accuracy_entropy\n",
        "accuracy_entropy = accuracy_score(y_test, y_pred)\n",
        "accuracy_gini = accuracy_score(y_test, y_pred_gini)\n",
        "\n",
        "# Print accuracy_entropy\n",
        "print(\"Accuracy achieved by using entropy: \", accuracy_entropy)\n",
        "\n",
        "# Print accuracy_gini\n",
        "print(\"Accuracy achieved by using gini: \", accuracy_gini)"
      ]
    },
    {
      "cell_type": "code",
      "source": [
        "# BAR Jumlah skema dari Reguler dan Kemitraan\n",
        "names = ['Entropy', 'Gini']\n",
        "values = [accuracy_entropy*100, accuracy_gini*100]\n",
        "f = plt.figure()\n",
        "f.set_figwidth(4)\n",
        "f.set_figheight(3)\n",
        "plt.bar(names, values)\n",
        "plt.ylabel('Akurasi')\n",
        "plt.xlabel('Labels')\n",
        "plt.show()"
      ],
      "metadata": {
        "colab": {
          "base_uri": "https://localhost:8080/",
          "height": 230
        },
        "id": "7rS3Q7AQNBD-",
        "outputId": "b8e4b62c-71b9-4e47-88d5-94ef8c9cc9e6"
      },
      "execution_count": null,
      "outputs": [
        {
          "output_type": "display_data",
          "data": {
            "text/plain": [
              "<Figure size 288x216 with 1 Axes>"
            ],
            "image/png": "[encoded data removed]"
          },
          "metadata": {}
        }
      ]
    },
    {
      "cell_type": "markdown",
      "metadata": {
        "id": "yGusGRviyYu8"
      },
      "source": [
        "### KLASIFIKASI NAIVE BAYES CATEGORICAL"
      ]
    },
    {
      "cell_type": "code",
      "execution_count": null,
      "metadata": {
        "colab": {
          "base_uri": "https://localhost:8080/"
        },
        "id": "X7FTiy4Pyf96",
        "outputId": "e67ce25e-fe22-4471-fb17-18e8bdd7d90c"
      },
      "outputs": [
        {
          "output_type": "stream",
          "name": "stdout",
          "text": [
            "Hasil akurasi data train: 0.9705882352941176\n",
            "Hasil akurasi data test: 0.5882352941176471\n"
          ]
        }
      ],
      "source": [
        "# Menggunakan CategoricalNB untuk kasus ini\n",
        "from sklearn.naive_bayes import CategoricalNB\n",
        "from sklearn.metrics import accuracy_score\n",
        "\n",
        "# Inisasi CategoricalNB\n",
        "cnb = CategoricalNB()\n",
        "\n",
        "# Fit model\n",
        "# Label y harus dalam bentu 1D atau (n_samples,)\n",
        "cnb.fit(X_train, y_train)\n",
        "\n",
        "# Prediksi dengan data training\n",
        "y_train_pred = cnb.predict(X_train)\n",
        "\n",
        "# Evaluasi akurasi training\n",
        "acc_train = accuracy_score(y_train, y_train_pred)\n",
        "\n",
        "# Prediksi test data\n",
        "y_test_pred = cnb.predict(X_test)\n",
        "\n",
        "# Evaluasi model dengan metric akurasi\n",
        "acc_test = accuracy_score(y_test, y_test_pred)\n",
        "\n",
        "# Print hasil evaluasi\n",
        "print(f'Hasil akurasi data train: {acc_train}')\n",
        "print(f'Hasil akurasi data test: {acc_test}')"
      ]
    },
    {
      "cell_type": "code",
      "source": [
        "# BAR Jumlah skema dari Reguler dan Kemitraan\n",
        "names = ['Train', 'Test']\n",
        "values = [acc_train*100, acc_test*100]\n",
        "f = plt.figure()\n",
        "f.set_figwidth(4)\n",
        "f.set_figheight(3)\n",
        "plt.bar(names, values)\n",
        "plt.ylabel('Akurasi')\n",
        "plt.xlabel('Labels')\n",
        "plt.show()"
      ],
      "metadata": {
        "colab": {
          "base_uri": "https://localhost:8080/",
          "height": 231
        },
        "id": "jkYEywNqNehC",
        "outputId": "b82b53b6-53b2-4fe5-afb1-0a59e1c42bf8"
      },
      "execution_count": null,
      "outputs": [
        {
          "output_type": "display_data",
          "data": {
            "text/plain": [
              "<Figure size 288x216 with 1 Axes>"
            ],
            "image/png": "[encoded data removed]"
          },
          "metadata": {}
        }
      ]
    },
    {
      "cell_type": "markdown",
      "metadata": {
        "id": "n6KpDOlbynNi"
      },
      "source": [
        "### KLASIFIKASI NAIVE BAYES GAUSSIANNB"
      ]
    },
    {
      "cell_type": "code",
      "execution_count": null,
      "metadata": {
        "id": "Z3eGB2nzyvbK"
      },
      "outputs": [],
      "source": [
        "from sklearn.preprocessing import StandardScaler\n",
        "\n",
        "# Inisasi obyek StandardScaler\n",
        "scaler = StandardScaler()\n",
        "\n",
        "# Standarisasi pada fitur di X_train dan X_test\n",
        "X_train_std = scaler.fit_transform(X_train)\n",
        "X_test_std = scaler.transform(X_test)"
      ]
    },
    {
      "cell_type": "code",
      "execution_count": null,
      "metadata": {
        "colab": {
          "base_uri": "https://localhost:8080/"
        },
        "id": "5nJMYiAcywjl",
        "outputId": "e8f135b7-8cda-4dd5-a832-f101c4be8491"
      },
      "outputs": [
        {
          "output_type": "stream",
          "name": "stdout",
          "text": [
            "Hasil akurasi data training terstandarisasi: 0.6029411764705882\n",
            "Hasil akurasi data testing terstandarisasi: 0.47058823529411764\n"
          ]
        }
      ],
      "source": [
        "from sklearn.naive_bayes import GaussianNB\n",
        "from sklearn.metrics import accuracy_score\n",
        "# Buat obyek GaussianNB lain\n",
        "gnb_std = GaussianNB()\n",
        "\n",
        "# Fit dengan data yang telah di standarisasi\n",
        "gnb_std.fit(X_train_std, y_train)\n",
        "\n",
        "# Prediksi dengan data training\n",
        "y_train_std_pred = gnb_std.predict(X_train_std)\n",
        "\n",
        "# Evaluasi akurasi training data\n",
        "acc_train_std = accuracy_score(y_train, y_train_std_pred)\n",
        "\n",
        "# Prediksi test data yang telah di standarisasi\n",
        "y_test_std_pred = gnb_std.predict(X_test_std)\n",
        "\n",
        "# Evaluasi akurasi testing data\n",
        "acc_test_std = accuracy_score(y_test, y_test_std_pred)\n",
        "\n",
        "# Print hasil evaluasi\n",
        "print(f'Hasil akurasi data training terstandarisasi: {acc_train_std}')\n",
        "print(f'Hasil akurasi data testing terstandarisasi: {acc_test_std}')"
      ]
    },
    {
      "cell_type": "markdown",
      "metadata": {
        "id": "gSf9GhTaJxzd"
      },
      "source": [
        "# **SOAL 5**"
      ]
    },
    {
      "cell_type": "markdown",
      "metadata": {
        "id": "KihbOErqzVVz"
      },
      "source": [
        "### METODE PREDIKSI DENGAN REGRESI"
      ]
    },
    {
      "cell_type": "code",
      "execution_count": null,
      "metadata": {
        "colab": {
          "base_uri": "https://localhost:8080/",
          "height": 270
        },
        "id": "59ZPt-L5zX1P",
        "outputId": "bc3eb8fb-2307-4ace-f090-d6fe2c00f080"
      },
      "outputs": [
        {
          "output_type": "execute_result",
          "data": {
            "text/plain": [
              "          id_ketua  id_anggota1  id_anggota2  id_anggota3  id_anggota4  \\\n",
              "tahun                                                                    \n",
              "0      7310.000000  7509.421053  8094.000000  7833.947368  8234.526316   \n",
              "1      7800.227273  7752.409091  8590.363636  8594.772727  7653.090909   \n",
              "2      7951.941176  8121.235294  8130.470588  8710.647059  8130.235294   \n",
              "3      7652.703704  7451.851852  6983.518519  7568.555556  5710.148148   \n",
              "\n",
              "       id_anggota5  keterlibatan_vltr  jml_vltr_terlibat     skema  \\\n",
              "tahun                                                                \n",
              "0         0.000000           0.000000           0.000000  1.000000   \n",
              "1       400.545455           0.681818           1.772727  0.909091   \n",
              "2         0.000000           0.529412           1.529412  0.941176   \n",
              "3         0.000000           0.592593           1.814815  0.925926   \n",
              "\n",
              "       luaran_hki  jenis_luaran_hki  potensi_hki  luaran_lain  \\\n",
              "tahun                                                           \n",
              "0        1.000000          1.000000     2.000000     0.000000   \n",
              "1        0.818182          0.818182     2.000000     0.454545   \n",
              "2        0.941176          0.941176     2.058824     0.176471   \n",
              "3        0.888889          0.888889     1.962963     0.111111   \n",
              "\n",
              "       jenis_luaran_lain  status_luaran_lain  \n",
              "tahun                                         \n",
              "0               3.000000            1.000000  \n",
              "1               1.772727            1.318182  \n",
              "2               2.705882            1.176471  \n",
              "3               2.814815            1.037037  "
            ],
            "text/html": [
              "\n",
              "  <div id=\"df-ace99ace-6f2e-4c43-8523-93622b79ecad\">\n",
              "    <div class=\"colab-df-container\">\n",
              "      <div>\n",
              "<style scoped>\n",
              "    .dataframe tbody tr th:only-of-type {\n",
              "        vertical-align: middle;\n",
              "    }\n",
              "\n",
              "    .dataframe tbody tr th {\n",
              "        vertical-align: top;\n",
              "    }\n",
              "\n",
              "    .dataframe thead th {\n",
              "        text-align: right;\n",
              "    }\n",
              "</style>\n",
              "<table border=\"1\" class=\"dataframe\">\n",
              "  <thead>\n",
              "    <tr style=\"text-align: right;\">\n",
              "      <th></th>\n",
              "      <th>id_ketua</th>\n",
              "      <th>id_anggota1</th>\n",
              "      <th>id_anggota2</th>\n",
              "      <th>id_anggota3</th>\n",
              "      <th>id_anggota4</th>\n",
              "      <th>id_anggota5</th>\n",
              "      <th>keterlibatan_vltr</th>\n",
              "      <th>jml_vltr_terlibat</th>\n",
              "      <th>skema</th>\n",
              "      <th>luaran_hki</th>\n",
              "      <th>jenis_luaran_hki</th>\n",
              "      <th>potensi_hki</th>\n",
              "      <th>luaran_lain</th>\n",
              "      <th>jenis_luaran_lain</th>\n",
              "      <th>status_luaran_lain</th>\n",
              "    </tr>\n",
              "    <tr>\n",
              "      <th>tahun</th>\n",
              "      <th></th>\n",
              "      <th></th>\n",
              "      <th></th>\n",
              "      <th></th>\n",
              "      <th></th>\n",
              "      <th></th>\n",
              "      <th></th>\n",
              "      <th></th>\n",
              "      <th></th>\n",
              "      <th></th>\n",
              "      <th></th>\n",
              "      <th></th>\n",
              "      <th></th>\n",
              "      <th></th>\n",
              "      <th></th>\n",
              "    </tr>\n",
              "  </thead>\n",
              "  <tbody>\n",
              "    <tr>\n",
              "      <th>0</th>\n",
              "      <td>7310.000000</td>\n",
              "      <td>7509.421053</td>\n",
              "      <td>8094.000000</td>\n",
              "      <td>7833.947368</td>\n",
              "      <td>8234.526316</td>\n",
              "      <td>0.000000</td>\n",
              "      <td>0.000000</td>\n",
              "      <td>0.000000</td>\n",
              "      <td>1.000000</td>\n",
              "      <td>1.000000</td>\n",
              "      <td>1.000000</td>\n",
              "      <td>2.000000</td>\n",
              "      <td>0.000000</td>\n",
              "      <td>3.000000</td>\n",
              "      <td>1.000000</td>\n",
              "    </tr>\n",
              "    <tr>\n",
              "      <th>1</th>\n",
              "      <td>7800.227273</td>\n",
              "      <td>7752.409091</td>\n",
              "      <td>8590.363636</td>\n",
              "      <td>8594.772727</td>\n",
              "      <td>7653.090909</td>\n",
              "      <td>400.545455</td>\n",
              "      <td>0.681818</td>\n",
              "      <td>1.772727</td>\n",
              "      <td>0.909091</td>\n",
              "      <td>0.818182</td>\n",
              "      <td>0.818182</td>\n",
              "      <td>2.000000</td>\n",
              "      <td>0.454545</td>\n",
              "      <td>1.772727</td>\n",
              "      <td>1.318182</td>\n",
              "    </tr>\n",
              "    <tr>\n",
              "      <th>2</th>\n",
              "      <td>7951.941176</td>\n",
              "      <td>8121.235294</td>\n",
              "      <td>8130.470588</td>\n",
              "      <td>8710.647059</td>\n",
              "      <td>8130.235294</td>\n",
              "      <td>0.000000</td>\n",
              "      <td>0.529412</td>\n",
              "      <td>1.529412</td>\n",
              "      <td>0.941176</td>\n",
              "      <td>0.941176</td>\n",
              "      <td>0.941176</td>\n",
              "      <td>2.058824</td>\n",
              "      <td>0.176471</td>\n",
              "      <td>2.705882</td>\n",
              "      <td>1.176471</td>\n",
              "    </tr>\n",
              "    <tr>\n",
              "      <th>3</th>\n",
              "      <td>7652.703704</td>\n",
              "      <td>7451.851852</td>\n",
              "      <td>6983.518519</td>\n",
              "      <td>7568.555556</td>\n",
              "      <td>5710.148148</td>\n",
              "      <td>0.000000</td>\n",
              "      <td>0.592593</td>\n",
              "      <td>1.814815</td>\n",
              "      <td>0.925926</td>\n",
              "      <td>0.888889</td>\n",
              "      <td>0.888889</td>\n",
              "      <td>1.962963</td>\n",
              "      <td>0.111111</td>\n",
              "      <td>2.814815</td>\n",
              "      <td>1.037037</td>\n",
              "    </tr>\n",
              "  </tbody>\n",
              "</table>\n",
              "</div>\n",
              "      <button class=\"colab-df-convert\" onclick=\"convertToInteractive('df-ace99ace-6f2e-4c43-8523-93622b79ecad')\"\n",
              "              title=\"Convert this dataframe to an interactive table.\"\n",
              "              style=\"display:none;\">\n",
              "        \n",
              "  <svg xmlns=\"http://www.w3.org/2000/svg\" height=\"24px\"viewBox=\"0 0 24 24\"\n",
              "       width=\"24px\">\n",
              "    <path d=\"M0 0h24v24H0V0z\" fill=\"none\"/>\n",
              "    <path d=\"M18.56 5.44l.94 2.06.94-2.06 2.06-.94-2.06-.94-.94-2.06-.94 2.06-2.06.94zm-11 1L8.5 8.5l.94-2.06 2.06-.94-2.06-.94L8.5 2.5l-.94 2.06-2.06.94zm10 10l.94 2.06.94-2.06 2.06-.94-2.06-.94-.94-2.06-.94 2.06-2.06.94z\"/><path d=\"M17.41 7.96l-1.37-1.37c-.4-.4-.92-.59-1.43-.59-.52 0-1.04.2-1.43.59L10.3 9.45l-7.72 7.72c-.78.78-.78 2.05 0 2.83L4 21.41c.39.39.9.59 1.41.59.51 0 1.02-.2 1.41-.59l7.78-7.78 2.81-2.81c.8-.78.8-2.07 0-2.86zM5.41 20L4 18.59l7.72-7.72 1.47 1.35L5.41 20z\"/>\n",
              "  </svg>\n",
              "      </button>\n",
              "      \n",
              "  <style>\n",
              "    .colab-df-container {\n",
              "      display:flex;\n",
              "      flex-wrap:wrap;\n",
              "      gap: 12px;\n",
              "    }\n",
              "\n",
              "    .colab-df-convert {\n",
              "      background-color: #E8F0FE;\n",
              "      border: none;\n",
              "      border-radius: 50%;\n",
              "      cursor: pointer;\n",
              "      display: none;\n",
              "      fill: #1967D2;\n",
              "      height: 32px;\n",
              "      padding: 0 0 0 0;\n",
              "      width: 32px;\n",
              "    }\n",
              "\n",
              "    .colab-df-convert:hover {\n",
              "      background-color: #E2EBFA;\n",
              "      box-shadow: 0px 1px 2px rgba(60, 64, 67, 0.3), 0px 1px 3px 1px rgba(60, 64, 67, 0.15);\n",
              "      fill: #174EA6;\n",
              "    }\n",
              "\n",
              "    [theme=dark] .colab-df-convert {\n",
              "      background-color: #3B4455;\n",
              "      fill: #D2E3FC;\n",
              "    }\n",
              "\n",
              "    [theme=dark] .colab-df-convert:hover {\n",
              "      background-color: #434B5C;\n",
              "      box-shadow: 0px 1px 3px 1px rgba(0, 0, 0, 0.15);\n",
              "      filter: drop-shadow(0px 1px 2px rgba(0, 0, 0, 0.3));\n",
              "      fill: #FFFFFF;\n",
              "    }\n",
              "  </style>\n",
              "\n",
              "      <script>\n",
              "        const buttonEl =\n",
              "          document.querySelector('#df-ace99ace-6f2e-4c43-8523-93622b79ecad button.colab-df-convert');\n",
              "        buttonEl.style.display =\n",
              "          google.colab.kernel.accessAllowed ? 'block' : 'none';\n",
              "\n",
              "        async function convertToInteractive(key) {\n",
              "          const element = document.querySelector('#df-ace99ace-6f2e-4c43-8523-93622b79ecad');\n",
              "          const dataTable =\n",
              "            await google.colab.kernel.invokeFunction('convertToInteractive',\n",
              "                                                     [key], {});\n",
              "          if (!dataTable) return;\n",
              "\n",
              "          const docLinkHtml = 'Like what you see? Visit the ' +\n",
              "            '<a target=\"_blank\" href=https://colab.research.google.com/notebooks/data_table.ipynb>data table notebook</a>'\n",
              "            + ' to learn more about interactive tables.';\n",
              "          element.innerHTML = '';\n",
              "          dataTable['output_type'] = 'display_data';\n",
              "          await google.colab.output.renderOutput(dataTable, element);\n",
              "          const docLink = document.createElement('div');\n",
              "          docLink.innerHTML = docLinkHtml;\n",
              "          element.appendChild(docLink);\n",
              "        }\n",
              "      </script>\n",
              "    </div>\n",
              "  </div>\n",
              "  "
            ]
          },
          "metadata": {},
          "execution_count": 45
        }
      ],
      "source": [
        "df.groupby('tahun').mean()"
      ]
    },
    {
      "cell_type": "code",
      "execution_count": null,
      "metadata": {
        "colab": {
          "base_uri": "https://localhost:8080/",
          "height": 270
        },
        "id": "ebrxFS1LzeTu",
        "outputId": "dd3077b2-49e0-4b31-d273-6c4eeeb8dbae"
      },
      "outputs": [
        {
          "output_type": "execute_result",
          "data": {
            "text/plain": [
              "   id_ketua  id_anggota1  id_anggota2  id_anggota3  id_anggota4  id_anggota5  \\\n",
              "0    7206.0       7214.0       6211.0       8602.0       7801.0          0.0   \n",
              "1    7214.0       7109.0       8402.0       7903.0       9202.0          0.0   \n",
              "2    5911.0       8201.0       8701.0       9101.0       9003.0          0.0   \n",
              "3    8402.0       7702.0       8602.0       8903.0       8903.0          0.0   \n",
              "4    8201.0       8305.0       5911.0       5903.0       8402.0          0.0   \n",
              "\n",
              "   keterlibatan_vltr  jml_vltr_terlibat  tahun  skema  luaran_hki  \\\n",
              "0                  0                  0      0      1           1   \n",
              "1                  0                  0      0      1           1   \n",
              "2                  0                  0      0      1           1   \n",
              "3                  0                  0      0      1           1   \n",
              "4                  0                  0      0      1           1   \n",
              "\n",
              "   jenis_luaran_hki  potensi_hki  luaran_lain  jenis_luaran_lain  \\\n",
              "0                 1            2            0                  3   \n",
              "1                 1            2            0                  3   \n",
              "2                 1            2            0                  3   \n",
              "3                 1            2            0                  3   \n",
              "4                 1            2            0                  3   \n",
              "\n",
              "   status_luaran_lain  \n",
              "0                   1  \n",
              "1                   1  \n",
              "2                   1  \n",
              "3                   1  \n",
              "4                   1  "
            ],
            "text/html": [
              "\n",
              "  <div id=\"df-4c968b09-c189-445b-913c-f1edbb500804\">\n",
              "    <div class=\"colab-df-container\">\n",
              "      <div>\n",
              "<style scoped>\n",
              "    .dataframe tbody tr th:only-of-type {\n",
              "        vertical-align: middle;\n",
              "    }\n",
              "\n",
              "    .dataframe tbody tr th {\n",
              "        vertical-align: top;\n",
              "    }\n",
              "\n",
              "    .dataframe thead th {\n",
              "        text-align: right;\n",
              "    }\n",
              "</style>\n",
              "<table border=\"1\" class=\"dataframe\">\n",
              "  <thead>\n",
              "    <tr style=\"text-align: right;\">\n",
              "      <th></th>\n",
              "      <th>id_ketua</th>\n",
              "      <th>id_anggota1</th>\n",
              "      <th>id_anggota2</th>\n",
              "      <th>id_anggota3</th>\n",
              "      <th>id_anggota4</th>\n",
              "      <th>id_anggota5</th>\n",
              "      <th>keterlibatan_vltr</th>\n",
              "      <th>jml_vltr_terlibat</th>\n",
              "      <th>tahun</th>\n",
              "      <th>skema</th>\n",
              "      <th>luaran_hki</th>\n",
              "      <th>jenis_luaran_hki</th>\n",
              "      <th>potensi_hki</th>\n",
              "      <th>luaran_lain</th>\n",
              "      <th>jenis_luaran_lain</th>\n",
              "      <th>status_luaran_lain</th>\n",
              "    </tr>\n",
              "  </thead>\n",
              "  <tbody>\n",
              "    <tr>\n",
              "      <th>0</th>\n",
              "      <td>7206.0</td>\n",
              "      <td>7214.0</td>\n",
              "      <td>6211.0</td>\n",
              "      <td>8602.0</td>\n",
              "      <td>7801.0</td>\n",
              "      <td>0.0</td>\n",
              "      <td>0</td>\n",
              "      <td>0</td>\n",
              "      <td>0</td>\n",
              "      <td>1</td>\n",
              "      <td>1</td>\n",
              "      <td>1</td>\n",
              "      <td>2</td>\n",
              "      <td>0</td>\n",
              "      <td>3</td>\n",
              "      <td>1</td>\n",
              "    </tr>\n",
              "    <tr>\n",
              "      <th>1</th>\n",
              "      <td>7214.0</td>\n",
              "      <td>7109.0</td>\n",
              "      <td>8402.0</td>\n",
              "      <td>7903.0</td>\n",
              "      <td>9202.0</td>\n",
              "      <td>0.0</td>\n",
              "      <td>0</td>\n",
              "      <td>0</td>\n",
              "      <td>0</td>\n",
              "      <td>1</td>\n",
              "      <td>1</td>\n",
              "      <td>1</td>\n",
              "      <td>2</td>\n",
              "      <td>0</td>\n",
              "      <td>3</td>\n",
              "      <td>1</td>\n",
              "    </tr>\n",
              "    <tr>\n",
              "      <th>2</th>\n",
              "      <td>5911.0</td>\n",
              "      <td>8201.0</td>\n",
              "      <td>8701.0</td>\n",
              "      <td>9101.0</td>\n",
              "      <td>9003.0</td>\n",
              "      <td>0.0</td>\n",
              "      <td>0</td>\n",
              "      <td>0</td>\n",
              "      <td>0</td>\n",
              "      <td>1</td>\n",
              "      <td>1</td>\n",
              "      <td>1</td>\n",
              "      <td>2</td>\n",
              "      <td>0</td>\n",
              "      <td>3</td>\n",
              "      <td>1</td>\n",
              "    </tr>\n",
              "    <tr>\n",
              "      <th>3</th>\n",
              "      <td>8402.0</td>\n",
              "      <td>7702.0</td>\n",
              "      <td>8602.0</td>\n",
              "      <td>8903.0</td>\n",
              "      <td>8903.0</td>\n",
              "      <td>0.0</td>\n",
              "      <td>0</td>\n",
              "      <td>0</td>\n",
              "      <td>0</td>\n",
              "      <td>1</td>\n",
              "      <td>1</td>\n",
              "      <td>1</td>\n",
              "      <td>2</td>\n",
              "      <td>0</td>\n",
              "      <td>3</td>\n",
              "      <td>1</td>\n",
              "    </tr>\n",
              "    <tr>\n",
              "      <th>4</th>\n",
              "      <td>8201.0</td>\n",
              "      <td>8305.0</td>\n",
              "      <td>5911.0</td>\n",
              "      <td>5903.0</td>\n",
              "      <td>8402.0</td>\n",
              "      <td>0.0</td>\n",
              "      <td>0</td>\n",
              "      <td>0</td>\n",
              "      <td>0</td>\n",
              "      <td>1</td>\n",
              "      <td>1</td>\n",
              "      <td>1</td>\n",
              "      <td>2</td>\n",
              "      <td>0</td>\n",
              "      <td>3</td>\n",
              "      <td>1</td>\n",
              "    </tr>\n",
              "  </tbody>\n",
              "</table>\n",
              "</div>\n",
              "      <button class=\"colab-df-convert\" onclick=\"convertToInteractive('df-4c968b09-c189-445b-913c-f1edbb500804')\"\n",
              "              title=\"Convert this dataframe to an interactive table.\"\n",
              "              style=\"display:none;\">\n",
              "        \n",
              "  <svg xmlns=\"http://www.w3.org/2000/svg\" height=\"24px\"viewBox=\"0 0 24 24\"\n",
              "       width=\"24px\">\n",
              "    <path d=\"M0 0h24v24H0V0z\" fill=\"none\"/>\n",
              "    <path d=\"M18.56 5.44l.94 2.06.94-2.06 2.06-.94-2.06-.94-.94-2.06-.94 2.06-2.06.94zm-11 1L8.5 8.5l.94-2.06 2.06-.94-2.06-.94L8.5 2.5l-.94 2.06-2.06.94zm10 10l.94 2.06.94-2.06 2.06-.94-2.06-.94-.94-2.06-.94 2.06-2.06.94z\"/><path d=\"M17.41 7.96l-1.37-1.37c-.4-.4-.92-.59-1.43-.59-.52 0-1.04.2-1.43.59L10.3 9.45l-7.72 7.72c-.78.78-.78 2.05 0 2.83L4 21.41c.39.39.9.59 1.41.59.51 0 1.02-.2 1.41-.59l7.78-7.78 2.81-2.81c.8-.78.8-2.07 0-2.86zM5.41 20L4 18.59l7.72-7.72 1.47 1.35L5.41 20z\"/>\n",
              "  </svg>\n",
              "      </button>\n",
              "      \n",
              "  <style>\n",
              "    .colab-df-container {\n",
              "      display:flex;\n",
              "      flex-wrap:wrap;\n",
              "      gap: 12px;\n",
              "    }\n",
              "\n",
              "    .colab-df-convert {\n",
              "      background-color: #E8F0FE;\n",
              "      border: none;\n",
              "      border-radius: 50%;\n",
              "      cursor: pointer;\n",
              "      display: none;\n",
              "      fill: #1967D2;\n",
              "      height: 32px;\n",
              "      padding: 0 0 0 0;\n",
              "      width: 32px;\n",
              "    }\n",
              "\n",
              "    .colab-df-convert:hover {\n",
              "      background-color: #E2EBFA;\n",
              "      box-shadow: 0px 1px 2px rgba(60, 64, 67, 0.3), 0px 1px 3px 1px rgba(60, 64, 67, 0.15);\n",
              "      fill: #174EA6;\n",
              "    }\n",
              "\n",
              "    [theme=dark] .colab-df-convert {\n",
              "      background-color: #3B4455;\n",
              "      fill: #D2E3FC;\n",
              "    }\n",
              "\n",
              "    [theme=dark] .colab-df-convert:hover {\n",
              "      background-color: #434B5C;\n",
              "      box-shadow: 0px 1px 3px 1px rgba(0, 0, 0, 0.15);\n",
              "      filter: drop-shadow(0px 1px 2px rgba(0, 0, 0, 0.3));\n",
              "      fill: #FFFFFF;\n",
              "    }\n",
              "  </style>\n",
              "\n",
              "      <script>\n",
              "        const buttonEl =\n",
              "          document.querySelector('#df-4c968b09-c189-445b-913c-f1edbb500804 button.colab-df-convert');\n",
              "        buttonEl.style.display =\n",
              "          google.colab.kernel.accessAllowed ? 'block' : 'none';\n",
              "\n",
              "        async function convertToInteractive(key) {\n",
              "          const element = document.querySelector('#df-4c968b09-c189-445b-913c-f1edbb500804');\n",
              "          const dataTable =\n",
              "            await google.colab.kernel.invokeFunction('convertToInteractive',\n",
              "                                                     [key], {});\n",
              "          if (!dataTable) return;\n",
              "\n",
              "          const docLinkHtml = 'Like what you see? Visit the ' +\n",
              "            '<a target=\"_blank\" href=https://colab.research.google.com/notebooks/data_table.ipynb>data table notebook</a>'\n",
              "            + ' to learn more about interactive tables.';\n",
              "          element.innerHTML = '';\n",
              "          dataTable['output_type'] = 'display_data';\n",
              "          await google.colab.output.renderOutput(dataTable, element);\n",
              "          const docLink = document.createElement('div');\n",
              "          docLink.innerHTML = docLinkHtml;\n",
              "          element.appendChild(docLink);\n",
              "        }\n",
              "      </script>\n",
              "    </div>\n",
              "  </div>\n",
              "  "
            ]
          },
          "metadata": {},
          "execution_count": 46
        }
      ],
      "source": [
        "import statsmodels.api as sm\n",
        "# keterangan tahun [2019 = 0], [2020 = 1], [2021 = 2], [2022 = 3]\n",
        "data_tahun_2019 = df[(df['tahun'] == 0)]\n",
        "data_tahun_2019.head()"
      ]
    },
    {
      "cell_type": "code",
      "execution_count": null,
      "metadata": {
        "id": "V-pw-XALzhnp"
      },
      "outputs": [],
      "source": [
        "Xbaru = data_tahun_2019['id_ketua']\n",
        "ybaru = data_tahun_2019['id_anggota1']"
      ]
    },
    {
      "cell_type": "code",
      "execution_count": null,
      "metadata": {
        "id": "MUf953nmzjaJ"
      },
      "outputs": [],
      "source": [
        "from sklearn.model_selection import train_test_split\n",
        "X_train, X_test, y_train, y_test = train_test_split(Xbaru, ybaru, train_size = 0.7, \n",
        "                                                    test_size = 0.3, random_state = 100)"
      ]
    },
    {
      "cell_type": "code",
      "execution_count": null,
      "metadata": {
        "colab": {
          "base_uri": "https://localhost:8080/"
        },
        "id": "HsLxpMzbzlT2",
        "outputId": "e516c79b-5ff3-4bec-d4b1-a6077a3a1c2e"
      },
      "outputs": [
        {
          "output_type": "execute_result",
          "data": {
            "text/plain": [
              "18    7903.0\n",
              "6     8803.0\n",
              "9     7206.0\n",
              "11    8301.0\n",
              "5     7607.0\n",
              "Name: id_anggota1, dtype: float64"
            ]
          },
          "metadata": {},
          "execution_count": 49
        }
      ],
      "source": [
        "X_train.head()\n",
        "y_train.head()"
      ]
    },
    {
      "cell_type": "code",
      "execution_count": null,
      "metadata": {
        "colab": {
          "base_uri": "https://localhost:8080/"
        },
        "id": "cVkDNyqAzoRN",
        "outputId": "a46b9015-67dc-4382-a190-c995f7196202"
      },
      "outputs": [
        {
          "output_type": "stream",
          "name": "stderr",
          "text": [
            "/usr/local/lib/python3.7/dist-packages/statsmodels/tsa/tsatools.py:142: FutureWarning: In a future version of pandas all arguments of concat except for the argument 'objs' will be keyword-only\n",
            "  x = pd.concat(x[::order], 1)\n"
          ]
        }
      ],
      "source": [
        "# training model\n",
        "X_train_sm = sm.add_constant(X_train)"
      ]
    },
    {
      "cell_type": "code",
      "execution_count": null,
      "metadata": {
        "colab": {
          "base_uri": "https://localhost:8080/"
        },
        "id": "N8dwrmM0zrzC",
        "outputId": "fb168121-ef9e-418b-dea1-be2f0b44dd62"
      },
      "outputs": [
        {
          "output_type": "execute_result",
          "data": {
            "text/plain": [
              "const       8648.613535\n",
              "id_ketua      -0.106060\n",
              "dtype: float64"
            ]
          },
          "metadata": {},
          "execution_count": 51
        }
      ],
      "source": [
        "# fitting garis regresi\n",
        "lr = sm.OLS(y_train, X_train_sm).fit()\n",
        "lr.params"
      ]
    },
    {
      "cell_type": "code",
      "execution_count": null,
      "metadata": {
        "colab": {
          "base_uri": "https://localhost:8080/",
          "height": 543
        },
        "id": "_eNLKA3wz1Ax",
        "outputId": "e0a9feed-3ea2-4ed6-d7a7-8d46ace99b9d"
      },
      "outputs": [
        {
          "output_type": "stream",
          "name": "stderr",
          "text": [
            "/usr/local/lib/python3.7/dist-packages/scipy/stats/stats.py:1542: UserWarning: kurtosistest only valid for n>=20 ... continuing anyway, n=13\n",
            "  \"anyway, n=%i\" % int(n))\n"
          ]
        },
        {
          "output_type": "execute_result",
          "data": {
            "text/plain": [
              "<class 'statsmodels.iolib.summary.Summary'>\n",
              "\"\"\"\n",
              "                            OLS Regression Results                            \n",
              "==============================================================================\n",
              "Dep. Variable:            id_anggota1   R-squared:                       0.196\n",
              "Model:                            OLS   Adj. R-squared:                  0.123\n",
              "Method:                 Least Squares   F-statistic:                     2.680\n",
              "Date:                Tue, 29 Nov 2022   Prob (F-statistic):              0.130\n",
              "Time:                        16:03:36   Log-Likelihood:                -98.718\n",
              "No. Observations:                  13   AIC:                             201.4\n",
              "Df Residuals:                      11   BIC:                             202.6\n",
              "Df Model:                           1                                         \n",
              "Covariance Type:            nonrobust                                         \n",
              "==============================================================================\n",
              "                 coef    std err          t      P>|t|      [0.025      0.975]\n",
              "------------------------------------------------------------------------------\n",
              "const       8648.6135    485.858     17.801      0.000    7579.246    9717.981\n",
              "id_ketua      -0.1061      0.065     -1.637      0.130      -0.249       0.037\n",
              "==============================================================================\n",
              "Omnibus:                        1.098   Durbin-Watson:                   2.223\n",
              "Prob(Omnibus):                  0.578   Jarque-Bera (JB):                0.714\n",
              "Skew:                           0.535   Prob(JB):                        0.700\n",
              "Kurtosis:                       2.585   Cond. No.                     2.52e+04\n",
              "==============================================================================\n",
              "\n",
              "Notes:\n",
              "[1] Standard Errors assume that the covariance matrix of the errors is correctly specified.\n",
              "[2] The condition number is large, 2.52e+04. This might indicate that there are\n",
              "strong multicollinearity or other numerical problems.\n",
              "\"\"\""
            ],
            "text/html": [
              "<table class=\"simpletable\">\n",
              "<caption>OLS Regression Results</caption>\n",
              "<tr>\n",
              "  <th>Dep. Variable:</th>       <td>id_anggota1</td>   <th>  R-squared:         </th> <td>   0.196</td>\n",
              "</tr>\n",
              "<tr>\n",
              "  <th>Model:</th>                   <td>OLS</td>       <th>  Adj. R-squared:    </th> <td>   0.123</td>\n",
              "</tr>\n",
              "<tr>\n",
              "  <th>Method:</th>             <td>Least Squares</td>  <th>  F-statistic:       </th> <td>   2.680</td>\n",
              "</tr>\n",
              "<tr>\n",
              "  <th>Date:</th>             <td>Tue, 29 Nov 2022</td> <th>  Prob (F-statistic):</th>  <td> 0.130</td> \n",
              "</tr>\n",
              "<tr>\n",
              "  <th>Time:</th>                 <td>16:03:36</td>     <th>  Log-Likelihood:    </th> <td> -98.718</td>\n",
              "</tr>\n",
              "<tr>\n",
              "  <th>No. Observations:</th>      <td>    13</td>      <th>  AIC:               </th> <td>   201.4</td>\n",
              "</tr>\n",
              "<tr>\n",
              "  <th>Df Residuals:</th>          <td>    11</td>      <th>  BIC:               </th> <td>   202.6</td>\n",
              "</tr>\n",
              "<tr>\n",
              "  <th>Df Model:</th>              <td>     1</td>      <th>                     </th>     <td> </td>   \n",
              "</tr>\n",
              "<tr>\n",
              "  <th>Covariance Type:</th>      <td>nonrobust</td>    <th>                     </th>     <td> </td>   \n",
              "</tr>\n",
              "</table>\n",
              "<table class=\"simpletable\">\n",
              "<tr>\n",
              "      <td></td>        <th>coef</th>     <th>std err</th>      <th>t</th>      <th>P>|t|</th>  <th>[0.025</th>    <th>0.975]</th>  \n",
              "</tr>\n",
              "<tr>\n",
              "  <th>const</th>    <td> 8648.6135</td> <td>  485.858</td> <td>   17.801</td> <td> 0.000</td> <td> 7579.246</td> <td> 9717.981</td>\n",
              "</tr>\n",
              "<tr>\n",
              "  <th>id_ketua</th> <td>   -0.1061</td> <td>    0.065</td> <td>   -1.637</td> <td> 0.130</td> <td>   -0.249</td> <td>    0.037</td>\n",
              "</tr>\n",
              "</table>\n",
              "<table class=\"simpletable\">\n",
              "<tr>\n",
              "  <th>Omnibus:</th>       <td> 1.098</td> <th>  Durbin-Watson:     </th> <td>   2.223</td>\n",
              "</tr>\n",
              "<tr>\n",
              "  <th>Prob(Omnibus):</th> <td> 0.578</td> <th>  Jarque-Bera (JB):  </th> <td>   0.714</td>\n",
              "</tr>\n",
              "<tr>\n",
              "  <th>Skew:</th>          <td> 0.535</td> <th>  Prob(JB):          </th> <td>   0.700</td>\n",
              "</tr>\n",
              "<tr>\n",
              "  <th>Kurtosis:</th>      <td> 2.585</td> <th>  Cond. No.          </th> <td>2.52e+04</td>\n",
              "</tr>\n",
              "</table><br/><br/>Notes:<br/>[1] Standard Errors assume that the covariance matrix of the errors is correctly specified.<br/>[2] The condition number is large, 2.52e+04. This might indicate that there are<br/>strong multicollinearity or other numerical problems."
            ]
          },
          "metadata": {},
          "execution_count": 52
        }
      ],
      "source": [
        "# analisis statistika dari garis regresi\n",
        "lr.summary()"
      ]
    },
    {
      "cell_type": "code",
      "execution_count": null,
      "metadata": {
        "colab": {
          "base_uri": "https://localhost:8080/",
          "height": 268
        },
        "id": "BSe-lRbaz3Rc",
        "outputId": "34a12d5f-ec5d-4deb-804a-a88644030228"
      },
      "outputs": [
        {
          "output_type": "display_data",
          "data": {
            "text/plain": [
              "<Figure size 432x288 with 1 Axes>"
            ],
            "image/png": "[encoded data removed]"
          },
          "metadata": {}
        }
      ],
      "source": [
        "# visualisasi garis regresi\n",
        "# print(X.size, y.size)\n",
        "plt.scatter(X_train, y_train)\n",
        "plt.plot(X_train, 8648.613535 + (-0.106060)*X_train, 'r')\n",
        "plt.show()"
      ]
    },
    {
      "cell_type": "code",
      "execution_count": null,
      "metadata": {
        "id": "N3r3w6rqz5rv"
      },
      "outputs": [],
      "source": [
        "# prediksi y_value dari data x yang telah dilatih\n",
        "y_train_pred = lr.predict(X_train_sm)\n",
        "\n",
        "res = (y_train - y_train_pred)"
      ]
    },
    {
      "cell_type": "code",
      "execution_count": null,
      "metadata": {
        "colab": {
          "base_uri": "https://localhost:8080/",
          "height": 363
        },
        "id": "BMgAYinwz8uV",
        "outputId": "747d7e3d-c906-4d9f-97e5-bc683b743b99"
      },
      "outputs": [
        {
          "output_type": "stream",
          "name": "stderr",
          "text": [
            "/usr/local/lib/python3.7/dist-packages/seaborn/distributions.py:2619: FutureWarning: `distplot` is a deprecated function and will be removed in a future version. Please adapt your code to use either `displot` (a figure-level function with similar flexibility) or `histplot` (an axes-level function for histograms).\n",
            "  warnings.warn(msg, FutureWarning)\n"
          ]
        },
        {
          "output_type": "display_data",
          "data": {
            "text/plain": [
              "<Figure size 432x288 with 1 Axes>"
            ],
            "image/png": "[encoded data removed]"
          },
          "metadata": {}
        }
      ],
      "source": [
        "# cek histogram apakah berdistribusi normal atau tidak\n",
        "fig = plt.figure()\n",
        "sns.distplot(res, bins = 15)\n",
        "plt.title('Error Terms', fontsize = 15)\n",
        "plt.xlabel('y_train - y_train_pred', fontsize = 15)\n",
        "plt.show()"
      ]
    },
    {
      "cell_type": "code",
      "execution_count": null,
      "metadata": {
        "colab": {
          "base_uri": "https://localhost:8080/",
          "height": 268
        },
        "id": "Ju-I-7eyz_29",
        "outputId": "80a89930-cda0-43c5-a710-c78a4bae5eba"
      },
      "outputs": [
        {
          "output_type": "display_data",
          "data": {
            "text/plain": [
              "<Figure size 432x288 with 1 Axes>"
            ],
            "image/png": "[encoded data removed]"
          },
          "metadata": {}
        }
      ],
      "source": [
        "plt.scatter(X_train,res)\n",
        "plt.show()"
      ]
    },
    {
      "cell_type": "code",
      "execution_count": null,
      "metadata": {
        "colab": {
          "base_uri": "https://localhost:8080/"
        },
        "id": "7euqZJhW0BNo",
        "outputId": "9482d4f6-3297-4332-ffd6-4797e8578e10"
      },
      "outputs": [
        {
          "output_type": "stream",
          "name": "stderr",
          "text": [
            "/usr/local/lib/python3.7/dist-packages/statsmodels/tsa/tsatools.py:142: FutureWarning: In a future version of pandas all arguments of concat except for the argument 'objs' will be keyword-only\n",
            "  x = pd.concat(x[::order], 1)\n"
          ]
        },
        {
          "output_type": "execute_result",
          "data": {
            "text/plain": [
              "15    8022.539303\n",
              "13    7789.312598\n",
              "17    7714.964294\n",
              "12    7736.282424\n",
              "14    7884.342670\n",
              "dtype: float64"
            ]
          },
          "metadata": {},
          "execution_count": 57
        }
      ],
      "source": [
        "# prediksi pada data uji dan evaluasi model\n",
        "X_test_sm = sm.add_constant(X_test)\n",
        "\n",
        "# prediksi y value yang berkorelasi dengan X_test_sm\n",
        "y_test_pred = lr.predict(X_test_sm)\n",
        "\n",
        "# cetak 5 data terprediksi teratas\n",
        "y_test_pred.head()"
      ]
    },
    {
      "cell_type": "code",
      "execution_count": null,
      "metadata": {
        "colab": {
          "base_uri": "https://localhost:8080/"
        },
        "id": "qsRGNyXX0Drn",
        "outputId": "33b166e3-7135-461b-fcae-ae53e32858b9"
      },
      "outputs": [
        {
          "output_type": "execute_result",
          "data": {
            "text/plain": [
              "-0.12141348922489636"
            ]
          },
          "metadata": {},
          "execution_count": 58
        }
      ],
      "source": [
        "# hitung nilai r^2\n",
        "from sklearn.metrics import r2_score\n",
        "\n",
        "r_squared = r2_score(y_test, y_test_pred)\n",
        "r_squared"
      ]
    },
    {
      "cell_type": "code",
      "execution_count": null,
      "metadata": {
        "colab": {
          "base_uri": "https://localhost:8080/",
          "height": 268
        },
        "id": "h1Agae2D0F69",
        "outputId": "beefb74c-5f1c-4bd5-d7e1-2ab7c5142531"
      },
      "outputs": [
        {
          "output_type": "display_data",
          "data": {
            "text/plain": [
              "<Figure size 432x288 with 1 Axes>"
            ],
            "image/png": "[encoded data removed]"
          },
          "metadata": {}
        }
      ],
      "source": [
        "# visualisasi data\n",
        "plt.scatter(X_test, y_test)\n",
        "plt.plot(X_test, y_test_pred, 'r')\n",
        "plt.show()"
      ]
    },
    {
      "cell_type": "markdown",
      "metadata": {
        "id": "zhv22CZrJ0-8"
      },
      "source": [
        "# **SOAL 6**"
      ]
    },
    {
      "cell_type": "markdown",
      "metadata": {
        "id": "ROfW45skL6va"
      },
      "source": [
        "### Konfigurasi data"
      ]
    },
    {
      "cell_type": "code",
      "execution_count": null,
      "metadata": {
        "id": "Zhw56cISL9Lv"
      },
      "outputs": [],
      "source": [
        "# Library\n",
        "import itertools\n",
        "from sklearn import svm\n",
        "from sklearn import metrics\n",
        "from sklearn.datasets import load_breast_cancer"
      ]
    },
    {
      "cell_type": "code",
      "execution_count": null,
      "metadata": {
        "id": "BYt9mj_TLyQV"
      },
      "outputs": [],
      "source": [
        "X = df.iloc[:,:5]\n",
        "y = columns.iloc[:,0]"
      ]
    },
    {
      "cell_type": "code",
      "execution_count": null,
      "metadata": {
        "id": "hfYeaxiBMGsy"
      },
      "outputs": [],
      "source": [
        "X_train, X_test, y_train, y_test = train_test_split(X, y, test_size=0.2, random_state=100, stratify=y)"
      ]
    },
    {
      "cell_type": "code",
      "execution_count": null,
      "metadata": {
        "colab": {
          "base_uri": "https://localhost:8080/"
        },
        "id": "TgnGVJuqMJAT",
        "outputId": "337141a2-b8f9-46ac-e655-70e4c7995087"
      },
      "outputs": [
        {
          "output_type": "execute_result",
          "data": {
            "text/plain": [
              "32    1\n",
              "56    0\n",
              "24    0\n",
              "7     0\n",
              "39    0\n",
              "Name: keterlibatan_vltr, dtype: int64"
            ]
          },
          "metadata": {},
          "execution_count": 111
        }
      ],
      "source": [
        "y_train[:10].head()"
      ]
    },
    {
      "cell_type": "code",
      "execution_count": null,
      "metadata": {
        "id": "ufooBbwwMLtq"
      },
      "outputs": [],
      "source": [
        "classifier = svm.SVC(kernel='linear', probability=True, verbose=True)"
      ]
    },
    {
      "cell_type": "code",
      "execution_count": null,
      "metadata": {
        "colab": {
          "base_uri": "https://localhost:8080/"
        },
        "id": "79ykkYsJMOSk",
        "outputId": "abef394d-488f-4bdd-d3d4-fd85afd13c2d"
      },
      "outputs": [
        {
          "output_type": "stream",
          "name": "stdout",
          "text": [
            "[LibSVM]"
          ]
        },
        {
          "output_type": "execute_result",
          "data": {
            "text/plain": [
              "SVC(kernel='linear', probability=True, verbose=True)"
            ]
          },
          "metadata": {},
          "execution_count": 113
        }
      ],
      "source": [
        "classifier.fit(X_train, y_train)"
      ]
    },
    {
      "cell_type": "code",
      "execution_count": null,
      "metadata": {
        "id": "0sk53PogMpNJ"
      },
      "outputs": [],
      "source": [
        "y_preds = classifier.predict(X_test)\n",
        "y_proba = classifier.predict_proba(X_test)"
      ]
    },
    {
      "cell_type": "code",
      "execution_count": null,
      "metadata": {
        "id": "e-KgreBMM1Fx"
      },
      "outputs": [],
      "source": [
        "y_proba = y_proba[:,1].reshape((y_proba.shape[0],))"
      ]
    },
    {
      "cell_type": "code",
      "execution_count": null,
      "metadata": {
        "colab": {
          "base_uri": "https://localhost:8080/"
        },
        "id": "8821nDw5M5IP",
        "outputId": "a3fe091f-700f-4707-a7ad-11e4ff4a619b"
      },
      "outputs": [
        {
          "output_type": "execute_result",
          "data": {
            "text/plain": [
              "(array([0.47207863, 0.50570201, 0.4636947 , 0.51519124, 0.38238374]),\n",
              " array([0, 0, 0, 0, 1]),\n",
              " 33    1\n",
              " 30    1\n",
              " 45    1\n",
              " 8     0\n",
              " 78    1\n",
              " Name: keterlibatan_vltr, dtype: int64)"
            ]
          },
          "metadata": {},
          "execution_count": 116
        }
      ],
      "source": [
        "y_proba[:5], y_preds[:5], y_test[:5]"
      ]
    },
    {
      "cell_type": "markdown",
      "metadata": {
        "id": "mzIZwtvYNJA4"
      },
      "source": [
        "### Confusion Matrix"
      ]
    },
    {
      "cell_type": "code",
      "execution_count": null,
      "metadata": {
        "colab": {
          "base_uri": "https://localhost:8080/"
        },
        "id": "8WRzKE7dNO--",
        "outputId": "87c520ff-a68a-43c3-a522-ed9248842da7"
      },
      "outputs": [
        {
          "output_type": "execute_result",
          "data": {
            "text/plain": [
              "array([[9, 0],\n",
              "       [6, 2]])"
            ]
          },
          "metadata": {},
          "execution_count": 122
        }
      ],
      "source": [
        "conf = metrics.confusion_matrix(y_test, y_preds)\n",
        "conf"
      ]
    },
    {
      "cell_type": "code",
      "execution_count": null,
      "metadata": {
        "id": "EGo-eqgONSx8"
      },
      "outputs": [],
      "source": [
        "def get_confusion_matrix(y_true, y_pred):\n",
        "    n_classes = len(np.unique(y_true))\n",
        "    conf = np.zeros((n_classes, n_classes))\n",
        "    for actual, pred in zip(y_true, y_pred):\n",
        "        conf[int(actual)][int(pred)] += 1\n",
        "    return conf.astype('int')"
      ]
    },
    {
      "cell_type": "code",
      "execution_count": null,
      "metadata": {
        "colab": {
          "base_uri": "https://localhost:8080/"
        },
        "id": "QWWex2QBNVx4",
        "outputId": "0caf0b57-e1a8-4a45-f468-4f44a8aca943"
      },
      "outputs": [
        {
          "output_type": "execute_result",
          "data": {
            "text/plain": [
              "array([[9, 0],\n",
              "       [6, 2]])"
            ]
          },
          "metadata": {},
          "execution_count": 124
        }
      ],
      "source": [
        "conf = get_confusion_matrix(y_test, y_preds)\n",
        "conf"
      ]
    },
    {
      "cell_type": "code",
      "execution_count": null,
      "metadata": {
        "colab": {
          "base_uri": "https://localhost:8080/",
          "height": 328
        },
        "id": "29WpjKu7NYz-",
        "outputId": "af08cdea-b9fa-4e0e-9650-1b08a5e58775"
      },
      "outputs": [
        {
          "output_type": "execute_result",
          "data": {
            "text/plain": [
              "Text(0.5, 12.5, 'Predicted label')"
            ]
          },
          "metadata": {},
          "execution_count": 125
        },
        {
          "output_type": "display_data",
          "data": {
            "text/plain": [
              "<Figure size 432x288 with 2 Axes>"
            ],
            "image/png": "[encoded data removed]"
          },
          "metadata": {}
        }
      ],
      "source": [
        "classes = [0, 1]\n",
        "\n",
        "plt.imshow(conf, interpolation='nearest', cmap=plt.cm.Greens)\n",
        "plt.title(\"Confusion Matrix\")\n",
        "plt.colorbar()\n",
        "tick_marks = np.arange(len(classes))\n",
        "plt.xticks(tick_marks, classes)\n",
        "plt.yticks(tick_marks, classes)\n",
        "\n",
        "fmt = 'd'\n",
        "thresh = conf.max() / 2.\n",
        "for i, j in itertools.product(range(conf.shape[0]), range(conf.shape[1])):\n",
        "    plt.text(j, i, format(conf[i, j], fmt),\n",
        "             horizontalalignment=\"center\",\n",
        "             color=\"white\" if conf[i, j] > thresh else \"black\")\n",
        "\n",
        "plt.tight_layout()\n",
        "plt.ylabel('True label')\n",
        "plt.xlabel('Predicted label')"
      ]
    },
    {
      "cell_type": "code",
      "execution_count": null,
      "metadata": {
        "id": "GxdFO_eoNfVq"
      },
      "outputs": [],
      "source": [
        "TP = true_pos = 3\n",
        "TN = true_neg = 9\n",
        "FP = false_pos = 0\n",
        "FN = false_neg = 6"
      ]
    },
    {
      "cell_type": "markdown",
      "metadata": {
        "id": "iPlt6mKGNiVL"
      },
      "source": [
        "### ROC"
      ]
    },
    {
      "cell_type": "code",
      "execution_count": null,
      "metadata": {
        "id": "cg3hh0eRNj-m"
      },
      "outputs": [],
      "source": [
        "def get_roc_curve(y_test, y_proba, delta=0.1):\n",
        "\n",
        "    thresh = list(np.arange(0, 1, delta)) + [1]\n",
        "    TPRs = []\n",
        "    FPRs = []\n",
        "    y_pred = np.empty(y_proba.shape)\n",
        "    for th in thresh:\n",
        "        y_pred[y_proba < th] = 0\n",
        "        y_pred[y_proba >= th] = 1\n",
        "        \n",
        "        \n",
        "        (TN, FP), (FN, TP) = get_confusion_matrix(y_test, y_pred)\n",
        "        \n",
        "        TPR = TP / (TP + FN)  # sensitivity\n",
        "        FPR = FP / (FP + TN)  # 1 - specificity\n",
        "        TPRs.append(TPR)\n",
        "        FPRs.append(FPR)\n",
        "    return FPRs, TPRs, thresh"
      ]
    },
    {
      "cell_type": "code",
      "execution_count": null,
      "metadata": {
        "id": "9YdC489hNoXX"
      },
      "outputs": [],
      "source": [
        "delta = 0.001\n",
        "FPRs, TPRs, _ = get_roc_curve(y_test, y_proba, delta)"
      ]
    },
    {
      "cell_type": "code",
      "execution_count": null,
      "metadata": {
        "colab": {
          "base_uri": "https://localhost:8080/",
          "height": 301
        },
        "id": "Pobd8y5KNqoR",
        "outputId": "7d44a52f-7e79-423c-d3f2-c25d6aa56ac7"
      },
      "outputs": [
        {
          "output_type": "display_data",
          "data": {
            "text/plain": [
              "<Figure size 432x288 with 1 Axes>"
            ],
            "image/png": "[encoded data removed]"
          },
          "metadata": {}
        }
      ],
      "source": [
        "plt.plot(FPRs, TPRs, color='red',\n",
        "         lw=2, label='ROC curve')\n",
        "plt.plot([0, 1], [0, 1], color='navy', lw=2, linestyle='--', label=\"Mean\")\n",
        "plt.xlim([-0.05, 1.0])\n",
        "plt.ylim([0.0, 1.05])\n",
        "plt.xlabel('False Positive Rate')\n",
        "plt.ylabel('True Positive Rate')\n",
        "plt.title(f'ROC curve (threshold delta = {delta})')\n",
        "plt.legend(loc=\"lower right\")\n",
        "plt.show()"
      ]
    },
    {
      "cell_type": "code",
      "execution_count": null,
      "metadata": {
        "colab": {
          "base_uri": "https://localhost:8080/"
        },
        "id": "dkEI4KvwNuq7",
        "outputId": "cc7265a9-552d-4edf-a22a-9dc25738b9c0"
      },
      "outputs": [
        {
          "output_type": "execute_result",
          "data": {
            "text/plain": [
              "array([0.75227516, 0.35043704, 0.42402758, 0.96621032, 0.87720077])"
            ]
          },
          "metadata": {},
          "execution_count": 130
        }
      ],
      "source": [
        "rand_proba = np.random.random(size=(y_proba.shape))\n",
        "rand_proba[:5] "
      ]
    },
    {
      "cell_type": "code",
      "execution_count": null,
      "metadata": {
        "id": "_UkN_q8QNxV3"
      },
      "outputs": [],
      "source": [
        "FPRs, TPRs, _ = get_roc_curve(y_test, rand_proba, delta)  "
      ]
    },
    {
      "cell_type": "code",
      "execution_count": null,
      "metadata": {
        "colab": {
          "base_uri": "https://localhost:8080/",
          "height": 301
        },
        "id": "S40eUMqgNzX9",
        "outputId": "05eb190a-c5e7-4c6a-9624-5eb1c5618ca1"
      },
      "outputs": [
        {
          "output_type": "display_data",
          "data": {
            "text/plain": [
              "<Figure size 432x288 with 1 Axes>"
            ],
            "image/png": "[encoded data removed]"
          },
          "metadata": {}
        }
      ],
      "source": [
        "plt.plot(FPRs, TPRs, color='red',\n",
        "         lw=2, label='ROC curve')\n",
        "plt.plot([0, 1], [0, 1], color='navy', lw=2, linestyle='--', label=\"Mean\")\n",
        "plt.xlim([-0.05, 1.0])\n",
        "plt.ylim([0.0, 1.05])\n",
        "plt.xlabel('False Positive Rate')\n",
        "plt.ylabel('True Positive Rate')\n",
        "plt.title(f'Random Predictions ROC curve (threshold delta = {delta})')\n",
        "plt.legend(loc=\"lower right\")\n",
        "plt.show()"
      ]
    },
    {
      "cell_type": "code",
      "execution_count": null,
      "metadata": {
        "id": "ZoBSCyqhN23r"
      },
      "outputs": [],
      "source": [
        "FPRs, TPRs, _ = metrics.roc_curve(y_test, y_proba)"
      ]
    },
    {
      "cell_type": "code",
      "execution_count": null,
      "metadata": {
        "colab": {
          "base_uri": "https://localhost:8080/",
          "height": 301
        },
        "id": "RkDQ8WoiN5l6",
        "outputId": "0bc25ed8-5efa-4199-8a12-bd8d471fdf27"
      },
      "outputs": [
        {
          "output_type": "display_data",
          "data": {
            "text/plain": [
              "<Figure size 432x288 with 1 Axes>"
            ],
            "image/png": "[encoded data removed]"
          },
          "metadata": {}
        }
      ],
      "source": [
        "plt.plot(FPRs, TPRs, color='red',\n",
        "         lw=2, label='ROC curve')\n",
        "plt.plot([0, 1], [0, 1], color='navy', lw=2, linestyle='--', label=\"Mean\")\n",
        "plt.xlim([-0.05, 1.0])\n",
        "plt.ylim([0.0, 1.05])\n",
        "plt.xlabel('False Positive Rate')\n",
        "plt.ylabel('True Positive Rate')\n",
        "plt.title(\"Scikit-learn's ROC curve\")\n",
        "plt.legend(loc=\"lower right\")\n",
        "plt.show()"
      ]
    },
    {
      "cell_type": "code",
      "execution_count": null,
      "metadata": {
        "id": "fS572EP5N8zV"
      },
      "outputs": [],
      "source": [
        "FPRs, TPRs, _ = metrics.roc_curve(y_test, rand_proba) "
      ]
    },
    {
      "cell_type": "code",
      "execution_count": null,
      "metadata": {
        "colab": {
          "base_uri": "https://localhost:8080/",
          "height": 301
        },
        "id": "fcJ0JmQLN-uo",
        "outputId": "05427a9c-da47-4d03-af61-bfcb1c55d272"
      },
      "outputs": [
        {
          "output_type": "display_data",
          "data": {
            "text/plain": [
              "<Figure size 432x288 with 1 Axes>"
            ],
            "image/png": "[encoded data removed]"
          },
          "metadata": {}
        }
      ],
      "source": [
        "plt.plot(FPRs, TPRs, color='red',\n",
        "         lw=2, label='ROC curve')\n",
        "plt.plot([0, 1], [0, 1], color='navy', lw=2, linestyle='--', label=\"Mean\")\n",
        "plt.xlim([-0.05, 1.0])\n",
        "plt.ylim([0.0, 1.05])\n",
        "plt.xlabel('False Positive Rate')\n",
        "plt.ylabel('True Positive Rate')\n",
        "plt.title(\"Scikit-learn's Random Predictions ROC curve\")\n",
        "plt.legend(loc=\"lower right\")\n",
        "plt.show()"
      ]
    },
    {
      "cell_type": "markdown",
      "metadata": {
        "id": "xgSy01xyLlSy"
      },
      "source": [
        "# **SOAL 7**"
      ]
    },
    {
      "cell_type": "markdown",
      "metadata": {
        "id": "EYxKAhC99JYk"
      },
      "source": [
        "### DECISION TREE"
      ]
    },
    {
      "cell_type": "code",
      "execution_count": null,
      "metadata": {
        "id": "TQa9qQnq-7fg"
      },
      "outputs": [],
      "source": [
        "from sklearn.tree import DecisionTreeClassifier\n",
        "from sklearn.svm import SVC # \"Support vector classifier\"\n",
        "from sklearn.metrics import accuracy_score\n"
      ]
    },
    {
      "cell_type": "code",
      "source": [
        "# Seleksi Fitur\n",
        "X = df.iloc[:, 6:]\n",
        "y = df['keterlibatan_vltr']\n",
        "\n",
        "# Cek jumlah fitur dan instance\n",
        "X.head()"
      ],
      "metadata": {
        "colab": {
          "base_uri": "https://localhost:8080/",
          "height": 270
        },
        "id": "LOq9GAjfK_lX",
        "outputId": "d807fdc3-9683-418b-e04a-8a923b719f94"
      },
      "execution_count": null,
      "outputs": [
        {
          "output_type": "execute_result",
          "data": {
            "text/plain": [
              "   keterlibatan_vltr  jml_vltr_terlibat  tahun  skema  luaran_hki  \\\n",
              "0                  0                  0      0      1           1   \n",
              "1                  0                  0      0      1           1   \n",
              "2                  0                  0      0      1           1   \n",
              "3                  0                  0      0      1           1   \n",
              "4                  0                  0      0      1           1   \n",
              "\n",
              "   jenis_luaran_hki  potensi_hki  luaran_lain  jenis_luaran_lain  \\\n",
              "0                 1            2            0                  3   \n",
              "1                 1            2            0                  3   \n",
              "2                 1            2            0                  3   \n",
              "3                 1            2            0                  3   \n",
              "4                 1            2            0                  3   \n",
              "\n",
              "   status_luaran_lain  \n",
              "0                   1  \n",
              "1                   1  \n",
              "2                   1  \n",
              "3                   1  \n",
              "4                   1  "
            ],
            "text/html": [
              "\n",
              "  <div id=\"df-e17e2f6d-66fa-454f-8a3a-9650c59b47a0\">\n",
              "    <div class=\"colab-df-container\">\n",
              "      <div>\n",
              "<style scoped>\n",
              "    .dataframe tbody tr th:only-of-type {\n",
              "        vertical-align: middle;\n",
              "    }\n",
              "\n",
              "    .dataframe tbody tr th {\n",
              "        vertical-align: top;\n",
              "    }\n",
              "\n",
              "    .dataframe thead th {\n",
              "        text-align: right;\n",
              "    }\n",
              "</style>\n",
              "<table border=\"1\" class=\"dataframe\">\n",
              "  <thead>\n",
              "    <tr style=\"text-align: right;\">\n",
              "      <th></th>\n",
              "      <th>keterlibatan_vltr</th>\n",
              "      <th>jml_vltr_terlibat</th>\n",
              "      <th>tahun</th>\n",
              "      <th>skema</th>\n",
              "      <th>luaran_hki</th>\n",
              "      <th>jenis_luaran_hki</th>\n",
              "      <th>potensi_hki</th>\n",
              "      <th>luaran_lain</th>\n",
              "      <th>jenis_luaran_lain</th>\n",
              "      <th>status_luaran_lain</th>\n",
              "    </tr>\n",
              "  </thead>\n",
              "  <tbody>\n",
              "    <tr>\n",
              "      <th>0</th>\n",
              "      <td>0</td>\n",
              "      <td>0</td>\n",
              "      <td>0</td>\n",
              "      <td>1</td>\n",
              "      <td>1</td>\n",
              "      <td>1</td>\n",
              "      <td>2</td>\n",
              "      <td>0</td>\n",
              "      <td>3</td>\n",
              "      <td>1</td>\n",
              "    </tr>\n",
              "    <tr>\n",
              "      <th>1</th>\n",
              "      <td>0</td>\n",
              "      <td>0</td>\n",
              "      <td>0</td>\n",
              "      <td>1</td>\n",
              "      <td>1</td>\n",
              "      <td>1</td>\n",
              "      <td>2</td>\n",
              "      <td>0</td>\n",
              "      <td>3</td>\n",
              "      <td>1</td>\n",
              "    </tr>\n",
              "    <tr>\n",
              "      <th>2</th>\n",
              "      <td>0</td>\n",
              "      <td>0</td>\n",
              "      <td>0</td>\n",
              "      <td>1</td>\n",
              "      <td>1</td>\n",
              "      <td>1</td>\n",
              "      <td>2</td>\n",
              "      <td>0</td>\n",
              "      <td>3</td>\n",
              "      <td>1</td>\n",
              "    </tr>\n",
              "    <tr>\n",
              "      <th>3</th>\n",
              "      <td>0</td>\n",
              "      <td>0</td>\n",
              "      <td>0</td>\n",
              "      <td>1</td>\n",
              "      <td>1</td>\n",
              "      <td>1</td>\n",
              "      <td>2</td>\n",
              "      <td>0</td>\n",
              "      <td>3</td>\n",
              "      <td>1</td>\n",
              "    </tr>\n",
              "    <tr>\n",
              "      <th>4</th>\n",
              "      <td>0</td>\n",
              "      <td>0</td>\n",
              "      <td>0</td>\n",
              "      <td>1</td>\n",
              "      <td>1</td>\n",
              "      <td>1</td>\n",
              "      <td>2</td>\n",
              "      <td>0</td>\n",
              "      <td>3</td>\n",
              "      <td>1</td>\n",
              "    </tr>\n",
              "  </tbody>\n",
              "</table>\n",
              "</div>\n",
              "      <button class=\"colab-df-convert\" onclick=\"convertToInteractive('df-e17e2f6d-66fa-454f-8a3a-9650c59b47a0')\"\n",
              "              title=\"Convert this dataframe to an interactive table.\"\n",
              "              style=\"display:none;\">\n",
              "        \n",
              "  <svg xmlns=\"http://www.w3.org/2000/svg\" height=\"24px\"viewBox=\"0 0 24 24\"\n",
              "       width=\"24px\">\n",
              "    <path d=\"M0 0h24v24H0V0z\" fill=\"none\"/>\n",
              "    <path d=\"M18.56 5.44l.94 2.06.94-2.06 2.06-.94-2.06-.94-.94-2.06-.94 2.06-2.06.94zm-11 1L8.5 8.5l.94-2.06 2.06-.94-2.06-.94L8.5 2.5l-.94 2.06-2.06.94zm10 10l.94 2.06.94-2.06 2.06-.94-2.06-.94-.94-2.06-.94 2.06-2.06.94z\"/><path d=\"M17.41 7.96l-1.37-1.37c-.4-.4-.92-.59-1.43-.59-.52 0-1.04.2-1.43.59L10.3 9.45l-7.72 7.72c-.78.78-.78 2.05 0 2.83L4 21.41c.39.39.9.59 1.41.59.51 0 1.02-.2 1.41-.59l7.78-7.78 2.81-2.81c.8-.78.8-2.07 0-2.86zM5.41 20L4 18.59l7.72-7.72 1.47 1.35L5.41 20z\"/>\n",
              "  </svg>\n",
              "      </button>\n",
              "      \n",
              "  <style>\n",
              "    .colab-df-container {\n",
              "      display:flex;\n",
              "      flex-wrap:wrap;\n",
              "      gap: 12px;\n",
              "    }\n",
              "\n",
              "    .colab-df-convert {\n",
              "      background-color: #E8F0FE;\n",
              "      border: none;\n",
              "      border-radius: 50%;\n",
              "      cursor: pointer;\n",
              "      display: none;\n",
              "      fill: #1967D2;\n",
              "      height: 32px;\n",
              "      padding: 0 0 0 0;\n",
              "      width: 32px;\n",
              "    }\n",
              "\n",
              "    .colab-df-convert:hover {\n",
              "      background-color: #E2EBFA;\n",
              "      box-shadow: 0px 1px 2px rgba(60, 64, 67, 0.3), 0px 1px 3px 1px rgba(60, 64, 67, 0.15);\n",
              "      fill: #174EA6;\n",
              "    }\n",
              "\n",
              "    [theme=dark] .colab-df-convert {\n",
              "      background-color: #3B4455;\n",
              "      fill: #D2E3FC;\n",
              "    }\n",
              "\n",
              "    [theme=dark] .colab-df-convert:hover {\n",
              "      background-color: #434B5C;\n",
              "      box-shadow: 0px 1px 3px 1px rgba(0, 0, 0, 0.15);\n",
              "      filter: drop-shadow(0px 1px 2px rgba(0, 0, 0, 0.3));\n",
              "      fill: #FFFFFF;\n",
              "    }\n",
              "  </style>\n",
              "\n",
              "      <script>\n",
              "        const buttonEl =\n",
              "          document.querySelector('#df-e17e2f6d-66fa-454f-8a3a-9650c59b47a0 button.colab-df-convert');\n",
              "        buttonEl.style.display =\n",
              "          google.colab.kernel.accessAllowed ? 'block' : 'none';\n",
              "\n",
              "        async function convertToInteractive(key) {\n",
              "          const element = document.querySelector('#df-e17e2f6d-66fa-454f-8a3a-9650c59b47a0');\n",
              "          const dataTable =\n",
              "            await google.colab.kernel.invokeFunction('convertToInteractive',\n",
              "                                                     [key], {});\n",
              "          if (!dataTable) return;\n",
              "\n",
              "          const docLinkHtml = 'Like what you see? Visit the ' +\n",
              "            '<a target=\"_blank\" href=https://colab.research.google.com/notebooks/data_table.ipynb>data table notebook</a>'\n",
              "            + ' to learn more about interactive tables.';\n",
              "          element.innerHTML = '';\n",
              "          dataTable['output_type'] = 'display_data';\n",
              "          await google.colab.output.renderOutput(dataTable, element);\n",
              "          const docLink = document.createElement('div');\n",
              "          docLink.innerHTML = docLinkHtml;\n",
              "          element.appendChild(docLink);\n",
              "        }\n",
              "      </script>\n",
              "    </div>\n",
              "  </div>\n",
              "  "
            ]
          },
          "metadata": {},
          "execution_count": 142
        }
      ]
    },
    {
      "cell_type": "code",
      "source": [
        "from sklearn.model_selection import RepeatedKFold\n",
        "\n",
        "# inisiasi repated k-fold\n",
        "cv = RepeatedKFold(n_splits=4, n_repeats=3, random_state=42)"
      ],
      "metadata": {
        "id": "I7IwgA2oLDDG"
      },
      "execution_count": null,
      "outputs": []
    },
    {
      "cell_type": "markdown",
      "source": [
        "### Implementasi Random Search"
      ],
      "metadata": {
        "id": "1WBTnHQTMStv"
      }
    },
    {
      "cell_type": "markdown",
      "source": [
        "\n",
        "\n",
        "*   DecisionTreeClassififer\n",
        "\n"
      ],
      "metadata": {
        "id": "kOC-kaS-MYDW"
      }
    },
    {
      "cell_type": "code",
      "source": [
        "# GRID\n",
        "from sklearn.tree import DecisionTreeClassifier\n",
        "from sklearn.model_selection import GridSearchCV\n",
        "\n",
        "# inisiasi model\n",
        "dt = DecisionTreeClassifier()\n",
        "\n",
        "# Definisikan hyperparameter yang akan digunakan\n",
        "# sklearn menerima dalam bentuk dictionary\n",
        "# nama hyperparamater HARUS SESUAI dengan dokumentasi sklearn\n",
        "params = {\n",
        "    'criterion': ['gini', 'entropy'],\n",
        "    'max_depth': list(range(5,11))\n",
        "}\n",
        "\n",
        "# inisiasi grid berdasarkan nilai repeated k-fold dan hyperparameter\n",
        "grid = GridSearchCV(dt, param_grid=params, cv=cv)\n",
        "\n",
        "# Fit / latih berdasarkan grid\n",
        "# %timeit merupakan magic command didalam ipython notebook\n",
        "# yang dapat kita gunakan untuk menghitung waktu komputasi\n",
        "# cara ini cukup efektif untuk melakukan evaluasi suatu algoritma atau prosedur\n",
        "%timeit grid.fit(X, y)\n",
        "\n",
        "# Evaluasi dengan score\n",
        "score = grid.score(X,y)\n",
        "\n",
        "print(f'Hasil evaluasi: {score}')\n",
        "print(f'Konfigurasi hyperparameter: {grid.best_params_}')"
      ],
      "metadata": {
        "colab": {
          "base_uri": "https://localhost:8080/"
        },
        "id": "dQ33IsDSLJKA",
        "outputId": "149f42c7-9d42-49aa-d86a-a7cb3c7b85e3"
      },
      "execution_count": null,
      "outputs": [
        {
          "output_type": "stream",
          "name": "stdout",
          "text": [
            "705 ms ± 373 ms per loop (mean ± std. dev. of 7 runs, 1 loop each)\n",
            "Hasil evaluasi: 1.0\n",
            "Konfigurasi hyperparameter: {'criterion': 'gini', 'max_depth': 7}\n"
          ]
        }
      ]
    },
    {
      "cell_type": "markdown",
      "source": [
        "\n",
        "\n",
        "*   RandomForestClassifier\n",
        "\n"
      ],
      "metadata": {
        "id": "DRSJOHA2MgJF"
      }
    },
    {
      "cell_type": "code",
      "source": [
        "# RANDOM\n",
        "from sklearn.ensemble import RandomForestClassifier\n",
        "from sklearn.model_selection import GridSearchCV\n",
        "\n",
        "# inisiasi model\n",
        "rf = RandomForestClassifier()\n",
        "\n",
        "# Definisikan hyperparameter yang akan digunakan\n",
        "# sklearn menerima dalam bentuk dictionary\n",
        "# nama hyperparamater HARUS SESUAI dengan dokumentasi sklearn\n",
        "params = {\n",
        "    'criterion': ['gini', 'entropy'],\n",
        "    'max_depth': list(range(5,11))\n",
        "}\n",
        "\n",
        "# inisiasi grid berdasarkan nilai repeated k-fold dan hyperparameter\n",
        "grid = GridSearchCV(rf, param_grid=params, cv=cv)\n",
        "\n",
        "# Fit / latih berdasarkan grid\n",
        "# %timeit merupakan magic command didalam ipython notebook\n",
        "# yang dapat kita gunakan untuk menghitung waktu komputasi\n",
        "# cara ini cukup efektif untuk melakukan evaluasi suatu algoritma atau prosedur\n",
        "%timeit grid.fit(X, y)\n",
        "\n",
        "# Evaluasi dengan score\n",
        "score = grid.score(X,y)\n",
        "\n",
        "print(f'Hasil evaluasi: {score}')\n",
        "print(f'Konfigurasi hyperparameter: {grid.best_params_}')"
      ],
      "metadata": {
        "colab": {
          "base_uri": "https://localhost:8080/"
        },
        "id": "Wshi06M6LTmn",
        "outputId": "8ea1062a-58d7-4519-f5c4-b4330c644131"
      },
      "execution_count": null,
      "outputs": [
        {
          "output_type": "stream",
          "name": "stdout",
          "text": [
            "20.9 s ± 1.9 s per loop (mean ± std. dev. of 7 runs, 1 loop each)\n",
            "Hasil evaluasi: 1.0\n",
            "Konfigurasi hyperparameter: {'criterion': 'gini', 'max_depth': 5}\n"
          ]
        }
      ]
    },
    {
      "cell_type": "markdown",
      "source": [
        "### Implementasi Grid Search"
      ],
      "metadata": {
        "id": "d6kP8rwNMmoy"
      }
    },
    {
      "cell_type": "markdown",
      "source": [
        "\n",
        "\n",
        "*   DecisionTreeClassififer\n",
        "\n"
      ],
      "metadata": {
        "id": "ElLKc7WcMquz"
      }
    },
    {
      "cell_type": "code",
      "source": [
        "from sklearn.tree import DecisionTreeClassifier\n",
        "from sklearn.model_selection import RandomizedSearchCV\n",
        "\n",
        "# inisiasi model\n",
        "dt = DecisionTreeClassifier()\n",
        "\n",
        "# Definisikan hyperparameter yang akan digunakan\n",
        "# sklearn menerima dalam bentuk dictionary\n",
        "# nama hyperparamater HARUS SESUAI dengan dokumentasi sklearn\n",
        "rs_space = {\n",
        "    'criterion': ['gini', 'entropy'],\n",
        "    'max_depth': list(range(5,11))\n",
        "}\n",
        "\n",
        "# inisiasi random berdasarkan nilai repeated k-fold dan hyperparameter\n",
        "random = RandomizedSearchCV(dt, rs_space, cv=cv, scoring='accuracy')\n",
        "\n",
        "# Fit / latih berdasarkan random\n",
        "# %timeit merupakan magic command didalam ipython notebook\n",
        "# yang dapat kita gunakan untuk menghitung waktu komputasi\n",
        "# cara ini cukup efektif untuk melakukan evaluasi suatu algoritma atau prosedur\n",
        "%timeit random.fit(X, y)\n",
        "\n",
        "# Evaluasi dengan score\n",
        "score = random.score(X,y)\n",
        "\n",
        "print(f'Hasil evaluasi: {score}')\n",
        "print(f'Konfigurasi hyperparameter: {random.best_params_}')\n",
        "print('Score terbaik: '+str(random.best_score_))"
      ],
      "metadata": {
        "colab": {
          "base_uri": "https://localhost:8080/"
        },
        "id": "Pi3tVtwWMDLk",
        "outputId": "1475b288-d77d-4e65-d381-d4e56e0ee733"
      },
      "execution_count": null,
      "outputs": [
        {
          "output_type": "stream",
          "name": "stdout",
          "text": [
            "454 ms ± 5.6 ms per loop (mean ± std. dev. of 7 runs, 1 loop each)\n",
            "Hasil evaluasi: 1.0\n",
            "Konfigurasi hyperparameter: {'max_depth': 9, 'criterion': 'entropy'}\n",
            "Score terbaik: 1.0\n"
          ]
        }
      ]
    },
    {
      "cell_type": "markdown",
      "source": [
        "\n",
        "\n",
        "*   RandomForestClassifier\n",
        "\n"
      ],
      "metadata": {
        "id": "28BYdIp_MtOn"
      }
    },
    {
      "cell_type": "code",
      "source": [
        "from sklearn.ensemble import RandomForestClassifier\n",
        "from sklearn.model_selection import RandomizedSearchCV\n",
        "\n",
        "# inisiasi model\n",
        "rf = RandomForestClassifier()\n",
        "\n",
        "# Definisikan hyperparameter yang akan digunakan\n",
        "# sklearn menerima dalam bentuk dictionary\n",
        "# nama hyperparamater HARUS SESUAI dengan dokumentasi sklearn\n",
        "rs_space = {\n",
        "    'criterion': ['gini', 'entropy'],\n",
        "    'max_depth': list(range(5,11))\n",
        "}\n",
        "\n",
        "# inisiasi random berdasarkan nilai repeated k-fold dan hyperparameter\n",
        "random = RandomizedSearchCV(rf, rs_space, cv=cv, scoring='accuracy')\n",
        "\n",
        "# Fit / latih berdasarkan random\n",
        "# %timeit merupakan magic command didalam ipython notebook\n",
        "# yang dapat kita gunakan untuk menghitung waktu komputasi\n",
        "# cara ini cukup efektif untuk melakukan evaluasi suatu algoritma atau prosedur\n",
        "%timeit random.fit(X, y)\n",
        "\n",
        "# Evaluasi dengan score\n",
        "score = random.score(X,y)\n",
        "\n",
        "print(f'Hasil evaluasi: {score}')\n",
        "print(f'Konfigurasi hyperparameter: {random.best_params_}')\n",
        "print('Score terbaik: '+str(random.best_score_))"
      ],
      "metadata": {
        "colab": {
          "base_uri": "https://localhost:8080/"
        },
        "id": "sbykpNNpMO6d",
        "outputId": "958eb720-c877-4495-baa2-c0d920a30870"
      },
      "execution_count": null,
      "outputs": [
        {
          "output_type": "stream",
          "name": "stdout",
          "text": [
            "19.4 s ± 3.29 s per loop (mean ± std. dev. of 7 runs, 1 loop each)\n",
            "Hasil evaluasi: 1.0\n",
            "Konfigurasi hyperparameter: {'max_depth': 6, 'criterion': 'gini'}\n",
            "Score terbaik: 1.0\n"
          ]
        }
      ]
    },
    {
      "cell_type": "markdown",
      "metadata": {
        "id": "tBTXLf0QLoU8"
      },
      "source": [
        "# **SOAL 8**\n",
        "**JAWABAN TERDAPAT PADA SOAL 4 DAN 5**"
      ]
    },
    {
      "cell_type": "markdown",
      "source": [
        "### SOAL 4"
      ],
      "metadata": {
        "id": "QmjCY8Z9ODzi"
      }
    },
    {
      "cell_type": "markdown",
      "source": [
        "#### KLASIFIKASI NAIVE BAYES DECISION TREE"
      ],
      "metadata": {
        "id": "7uH7qlExOMO8"
      }
    },
    {
      "cell_type": "code",
      "source": [
        "# BAR Jumlah skema dari Reguler dan Kemitraan\n",
        "names = ['Entropy', 'Gini']\n",
        "values = [accuracy_entropy*100, accuracy_gini*100]\n",
        "f = plt.figure()\n",
        "f.set_figwidth(4)\n",
        "f.set_figheight(3)\n",
        "plt.bar(names, values)\n",
        "plt.ylabel('Akurasi')\n",
        "plt.xlabel('Labels')\n",
        "plt.show()"
      ],
      "metadata": {
        "colab": {
          "base_uri": "https://localhost:8080/",
          "height": 230
        },
        "id": "C4g-7CoAOHTw",
        "outputId": "0f28828c-0997-441c-d74f-37f7b05c1492"
      },
      "execution_count": null,
      "outputs": [
        {
          "output_type": "display_data",
          "data": {
            "text/plain": [
              "<Figure size 288x216 with 1 Axes>"
            ],
            "image/png": "[encoded data removed]"
          },
          "metadata": {}
        }
      ]
    },
    {
      "cell_type": "markdown",
      "source": [
        "#### KLASIFIKASI NAIVE BAYES CATEGORICAL"
      ],
      "metadata": {
        "id": "1rx2QEyZOTIJ"
      }
    },
    {
      "cell_type": "code",
      "source": [
        "# BAR Jumlah skema dari Reguler dan Kemitraan\n",
        "names = ['Train', 'Test']\n",
        "values = [acc_train*100, acc_test*100]\n",
        "f = plt.figure()\n",
        "f.set_figwidth(4)\n",
        "f.set_figheight(3)\n",
        "plt.bar(names, values)\n",
        "plt.ylabel('Akurasi')\n",
        "plt.xlabel('Labels')\n",
        "plt.show()"
      ],
      "metadata": {
        "colab": {
          "base_uri": "https://localhost:8080/",
          "height": 231
        },
        "id": "W0_sg7yBOIrc",
        "outputId": "62c8dc78-f812-449b-caef-9aafaf177027"
      },
      "execution_count": null,
      "outputs": [
        {
          "output_type": "display_data",
          "data": {
            "text/plain": [
              "<Figure size 288x216 with 1 Axes>"
            ],
            "image/png": "[encoded data removed]"
          },
          "metadata": {}
        }
      ]
    },
    {
      "cell_type": "markdown",
      "source": [
        "### SOAL 5"
      ],
      "metadata": {
        "id": "U8cF_4lXqR1C"
      }
    },
    {
      "cell_type": "code",
      "source": [
        "# visualisasi garis regresi\n",
        "# print(X.size, y.size)\n",
        "plt.scatter(X_train, y_train)\n",
        "plt.plot(X_train, 8648.613535 + (-0.106060)*X_train, 'r')\n",
        "plt.show()"
      ],
      "metadata": {
        "colab": {
          "base_uri": "https://localhost:8080/",
          "height": 268
        },
        "id": "jAk2BMmzqUcE",
        "outputId": "0a10232d-1fd6-40ca-b2d9-3f65daa76cf0"
      },
      "execution_count": null,
      "outputs": [
        {
          "output_type": "display_data",
          "data": {
            "text/plain": [
              "<Figure size 432x288 with 1 Axes>"
            ],
            "image/png": "[encoded data removed]"
          },
          "metadata": {}
        }
      ]
    },
    {
      "cell_type": "code",
      "source": [
        "# cek histogram apakah berdistribusi normal atau tidak\n",
        "fig = plt.figure()\n",
        "sns.distplot(res, bins = 15)\n",
        "plt.title('Error Terms', fontsize = 15)\n",
        "plt.xlabel('y_train - y_train_pred', fontsize = 15)\n",
        "plt.show()"
      ],
      "metadata": {
        "colab": {
          "base_uri": "https://localhost:8080/",
          "height": 361
        },
        "id": "eRzF9WcGqhc7",
        "outputId": "76b28d9d-7aa1-4c37-960e-5eb52998aec0"
      },
      "execution_count": null,
      "outputs": [
        {
          "output_type": "stream",
          "name": "stderr",
          "text": [
            "/usr/local/lib/python3.7/dist-packages/seaborn/distributions.py:2619: FutureWarning: `distplot` is a deprecated function and will be removed in a future version. Please adapt your code to use either `displot` (a figure-level function with similar flexibility) or `histplot` (an axes-level function for histograms).\n",
            "  warnings.warn(msg, FutureWarning)\n"
          ]
        },
        {
          "output_type": "display_data",
          "data": {
            "text/plain": [
              "<Figure size 432x288 with 1 Axes>"
            ],
            "image/png": "[encoded data removed]"
          },
          "metadata": {}
        }
      ]
    },
    {
      "cell_type": "code",
      "source": [
        "plt.scatter(X_train,res)\n",
        "plt.show()"
      ],
      "metadata": {
        "id": "UzxuJvm1qloc",
        "outputId": "46e055c2-601d-4319-fc94-f3baffc0cafc",
        "colab": {
          "base_uri": "https://localhost:8080/",
          "height": 268
        }
      },
      "execution_count": null,
      "outputs": [
        {
          "output_type": "display_data",
          "data": {
            "text/plain": [
              "<Figure size 432x288 with 1 Axes>"
            ],
            "image/png": "[encoded data removed]"
          },
          "metadata": {}
        }
      ]
    },
    {
      "cell_type": "code",
      "source": [
        "# visualisasi data\n",
        "plt.scatter(X_test, y_test)\n",
        "plt.plot(X_test, y_test_pred, 'r')\n",
        "plt.show()"
      ],
      "metadata": {
        "id": "6EgpRK50qrdD",
        "outputId": "20389533-7f5d-4c68-fbf8-611d76e66994",
        "colab": {
          "base_uri": "https://localhost:8080/",
          "height": 268
        }
      },
      "execution_count": null,
      "outputs": [
        {
          "output_type": "display_data",
          "data": {
            "text/plain": [
              "<Figure size 432x288 with 1 Axes>"
            ],
            "image/png": "[encoded data removed]"
          },
          "metadata": {}
        }
      ]
    }
  ],
  "metadata": {
    "colab": {
      "provenance": [],
      "toc_visible": true
    },
    "kernelspec": {
      "display_name": "Python 3",
      "name": "python3"
    },
    "language_info": {
      "name": "python"
    }
  },
  "nbformat": 4,
  "nbformat_minor": 0
}